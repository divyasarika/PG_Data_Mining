{
 "cells": [
  {
   "cell_type": "markdown",
   "metadata": {},
   "source": [
    "## Problem 1: Clustering\n",
    "\n",
    "## A leading bank wants to develop a customer segmentation to give promotional offers to its customers. They collected a sample that summarizes the activities of users during the past few months. You are given the task to identify the segments based on credit card usage."
   ]
  },
  {
   "cell_type": "markdown",
   "metadata": {},
   "source": [
    "<span style=\"font-family: Arial; font-weight:bold;font-size:1.5em;color:#00b3e5;\">Loading libraries"
   ]
  },
  {
   "cell_type": "code",
   "execution_count": 54,
   "metadata": {},
   "outputs": [],
   "source": [
    "import numpy as np\n",
    "import pandas as pd\n",
    "import matplotlib.pyplot as plt\n",
    "import seaborn as sns"
   ]
  },
  {
   "cell_type": "markdown",
   "metadata": {},
   "source": [
    "<span style=\"font-family: Arial; font-weight:bold;font-size:1.5em;color:#00b3e5;\">1.1 Read the data and do exploratory data analysis. Describe the data briefly."
   ]
  },
  {
   "cell_type": "code",
   "execution_count": 48,
   "metadata": {},
   "outputs": [
    {
     "data": {
      "text/html": [
       "<div>\n",
       "<style scoped>\n",
       "    .dataframe tbody tr th:only-of-type {\n",
       "        vertical-align: middle;\n",
       "    }\n",
       "\n",
       "    .dataframe tbody tr th {\n",
       "        vertical-align: top;\n",
       "    }\n",
       "\n",
       "    .dataframe thead th {\n",
       "        text-align: right;\n",
       "    }\n",
       "</style>\n",
       "<table border=\"1\" class=\"dataframe\">\n",
       "  <thead>\n",
       "    <tr style=\"text-align: right;\">\n",
       "      <th></th>\n",
       "      <th>spending</th>\n",
       "      <th>advance_payments</th>\n",
       "      <th>probability_of_full_payment</th>\n",
       "      <th>current_balance</th>\n",
       "      <th>credit_limit</th>\n",
       "      <th>min_payment_amt</th>\n",
       "      <th>max_spent_in_single_shopping</th>\n",
       "    </tr>\n",
       "  </thead>\n",
       "  <tbody>\n",
       "    <tr>\n",
       "      <th>0</th>\n",
       "      <td>19.94</td>\n",
       "      <td>16.92</td>\n",
       "      <td>0.8752</td>\n",
       "      <td>6.675</td>\n",
       "      <td>3.763</td>\n",
       "      <td>3.252</td>\n",
       "      <td>6.550</td>\n",
       "    </tr>\n",
       "    <tr>\n",
       "      <th>1</th>\n",
       "      <td>15.99</td>\n",
       "      <td>14.89</td>\n",
       "      <td>0.9064</td>\n",
       "      <td>5.363</td>\n",
       "      <td>3.582</td>\n",
       "      <td>3.336</td>\n",
       "      <td>5.144</td>\n",
       "    </tr>\n",
       "    <tr>\n",
       "      <th>2</th>\n",
       "      <td>18.95</td>\n",
       "      <td>16.42</td>\n",
       "      <td>0.8829</td>\n",
       "      <td>6.248</td>\n",
       "      <td>3.755</td>\n",
       "      <td>3.368</td>\n",
       "      <td>6.148</td>\n",
       "    </tr>\n",
       "    <tr>\n",
       "      <th>3</th>\n",
       "      <td>10.83</td>\n",
       "      <td>12.96</td>\n",
       "      <td>0.8099</td>\n",
       "      <td>5.278</td>\n",
       "      <td>2.641</td>\n",
       "      <td>5.182</td>\n",
       "      <td>5.185</td>\n",
       "    </tr>\n",
       "    <tr>\n",
       "      <th>4</th>\n",
       "      <td>17.99</td>\n",
       "      <td>15.86</td>\n",
       "      <td>0.8992</td>\n",
       "      <td>5.890</td>\n",
       "      <td>3.694</td>\n",
       "      <td>2.068</td>\n",
       "      <td>5.837</td>\n",
       "    </tr>\n",
       "  </tbody>\n",
       "</table>\n",
       "</div>"
      ],
      "text/plain": [
       "   spending  advance_payments  probability_of_full_payment  current_balance  \\\n",
       "0     19.94             16.92                       0.8752            6.675   \n",
       "1     15.99             14.89                       0.9064            5.363   \n",
       "2     18.95             16.42                       0.8829            6.248   \n",
       "3     10.83             12.96                       0.8099            5.278   \n",
       "4     17.99             15.86                       0.8992            5.890   \n",
       "\n",
       "   credit_limit  min_payment_amt  max_spent_in_single_shopping  \n",
       "0         3.763            3.252                         6.550  \n",
       "1         3.582            3.336                         5.144  \n",
       "2         3.755            3.368                         6.148  \n",
       "3         2.641            5.182                         5.185  \n",
       "4         3.694            2.068                         5.837  "
      ]
     },
     "execution_count": 48,
     "metadata": {},
     "output_type": "execute_result"
    }
   ],
   "source": [
    "data = pd.read_csv('bank_marketing_part1_Data.csv')\n",
    "data.head()"
   ]
  },
  {
   "cell_type": "markdown",
   "metadata": {},
   "source": [
    "<span style=\"font-family: Arial; font-weight:bold;font-size:1.5em;color:#00b3e5;\"> Checking the Dimension of data"
   ]
  },
  {
   "cell_type": "code",
   "execution_count": 49,
   "metadata": {},
   "outputs": [
    {
     "data": {
      "text/plain": [
       "(210, 7)"
      ]
     },
     "execution_count": 49,
     "metadata": {},
     "output_type": "execute_result"
    }
   ],
   "source": [
    "data.shape"
   ]
  },
  {
   "cell_type": "markdown",
   "metadata": {},
   "source": [
    "**There are 210 Observations and 7 Attributes.**"
   ]
  },
  {
   "cell_type": "markdown",
   "metadata": {},
   "source": [
    "<span style=\"font-family: Arial; font-weight:bold;font-size:1.5em;color:#00b3e5;\">Checking the information about data"
   ]
  },
  {
   "cell_type": "code",
   "execution_count": 50,
   "metadata": {},
   "outputs": [
    {
     "name": "stdout",
     "output_type": "stream",
     "text": [
      "<class 'pandas.core.frame.DataFrame'>\n",
      "RangeIndex: 210 entries, 0 to 209\n",
      "Data columns (total 7 columns):\n",
      " #   Column                        Non-Null Count  Dtype  \n",
      "---  ------                        --------------  -----  \n",
      " 0   spending                      210 non-null    float64\n",
      " 1   advance_payments              210 non-null    float64\n",
      " 2   probability_of_full_payment   210 non-null    float64\n",
      " 3   current_balance               210 non-null    float64\n",
      " 4   credit_limit                  210 non-null    float64\n",
      " 5   min_payment_amt               210 non-null    float64\n",
      " 6   max_spent_in_single_shopping  210 non-null    float64\n",
      "dtypes: float64(7)\n",
      "memory usage: 11.6 KB\n"
     ]
    }
   ],
   "source": [
    "data.info()"
   ]
  },
  {
   "cell_type": "markdown",
   "metadata": {},
   "source": [
    "<span style=\"font-family: Arial; font-weight:bold;font-size:1.7em;color:#00b3e5;\">EDA Descriptive Statistics"
   ]
  },
  {
   "cell_type": "markdown",
   "metadata": {},
   "source": [
    "### **Mean**"
   ]
  },
  {
   "cell_type": "code",
   "execution_count": 63,
   "metadata": {},
   "outputs": [
    {
     "data": {
      "text/plain": [
       "spending                        14.847524\n",
       "advance_payments                14.559286\n",
       "probability_of_full_payment      0.870999\n",
       "current_balance                  5.628533\n",
       "credit_limit                     3.258605\n",
       "min_payment_amt                  3.700201\n",
       "max_spent_in_single_shopping     5.408071\n",
       "dtype: float64"
      ]
     },
     "execution_count": 63,
     "metadata": {},
     "output_type": "execute_result"
    }
   ],
   "source": [
    "data.mean()"
   ]
  },
  {
   "cell_type": "markdown",
   "metadata": {},
   "source": [
    "### **Median**"
   ]
  },
  {
   "cell_type": "code",
   "execution_count": 64,
   "metadata": {},
   "outputs": [
    {
     "data": {
      "text/plain": [
       "spending                        14.35500\n",
       "advance_payments                14.32000\n",
       "probability_of_full_payment      0.87345\n",
       "current_balance                  5.52350\n",
       "credit_limit                     3.23700\n",
       "min_payment_amt                  3.59900\n",
       "max_spent_in_single_shopping     5.22300\n",
       "dtype: float64"
      ]
     },
     "execution_count": 64,
     "metadata": {},
     "output_type": "execute_result"
    }
   ],
   "source": [
    "data.median()"
   ]
  },
  {
   "cell_type": "markdown",
   "metadata": {},
   "source": [
    "### **Mode**"
   ]
  },
  {
   "cell_type": "code",
   "execution_count": 73,
   "metadata": {},
   "outputs": [
    {
     "data": {
      "text/html": [
       "<div>\n",
       "<style scoped>\n",
       "    .dataframe tbody tr th:only-of-type {\n",
       "        vertical-align: middle;\n",
       "    }\n",
       "\n",
       "    .dataframe tbody tr th {\n",
       "        vertical-align: top;\n",
       "    }\n",
       "\n",
       "    .dataframe thead th {\n",
       "        text-align: right;\n",
       "    }\n",
       "</style>\n",
       "<table border=\"1\" class=\"dataframe\">\n",
       "  <thead>\n",
       "    <tr style=\"text-align: right;\">\n",
       "      <th></th>\n",
       "      <th>spending</th>\n",
       "      <th>advance_payments</th>\n",
       "      <th>probability_of_full_payment</th>\n",
       "      <th>current_balance</th>\n",
       "      <th>credit_limit</th>\n",
       "      <th>min_payment_amt</th>\n",
       "      <th>max_spent_in_single_shopping</th>\n",
       "    </tr>\n",
       "  </thead>\n",
       "  <tbody>\n",
       "    <tr>\n",
       "      <th>0</th>\n",
       "      <td>11.23</td>\n",
       "      <td>13.47</td>\n",
       "      <td>0.8823</td>\n",
       "      <td>5.236</td>\n",
       "      <td>3.026</td>\n",
       "      <td>2.129</td>\n",
       "      <td>5.001</td>\n",
       "    </tr>\n",
       "    <tr>\n",
       "      <th>1</th>\n",
       "      <td>14.11</td>\n",
       "      <td>NaN</td>\n",
       "      <td>NaN</td>\n",
       "      <td>5.395</td>\n",
       "      <td>NaN</td>\n",
       "      <td>2.221</td>\n",
       "      <td>NaN</td>\n",
       "    </tr>\n",
       "    <tr>\n",
       "      <th>2</th>\n",
       "      <td>15.38</td>\n",
       "      <td>NaN</td>\n",
       "      <td>NaN</td>\n",
       "      <td>NaN</td>\n",
       "      <td>NaN</td>\n",
       "      <td>2.700</td>\n",
       "      <td>NaN</td>\n",
       "    </tr>\n",
       "  </tbody>\n",
       "</table>\n",
       "</div>"
      ],
      "text/plain": [
       "   spending  advance_payments  probability_of_full_payment  current_balance  \\\n",
       "0     11.23             13.47                       0.8823            5.236   \n",
       "1     14.11               NaN                          NaN            5.395   \n",
       "2     15.38               NaN                          NaN              NaN   \n",
       "\n",
       "   credit_limit  min_payment_amt  max_spent_in_single_shopping  \n",
       "0         3.026            2.129                         5.001  \n",
       "1           NaN            2.221                           NaN  \n",
       "2           NaN            2.700                           NaN  "
      ]
     },
     "execution_count": 73,
     "metadata": {},
     "output_type": "execute_result"
    }
   ],
   "source": [
    "data.mode()"
   ]
  },
  {
   "cell_type": "markdown",
   "metadata": {},
   "source": [
    "### Quantile 25%"
   ]
  },
  {
   "cell_type": "code",
   "execution_count": 67,
   "metadata": {},
   "outputs": [
    {
     "name": "stdout",
     "output_type": "stream",
     "text": [
      "data_quantile(25%): spending                        12.27000\n",
      "advance_payments                13.45000\n",
      "probability_of_full_payment      0.85690\n",
      "current_balance                  5.26225\n",
      "credit_limit                     2.94400\n",
      "min_payment_amt                  2.56150\n",
      "max_spent_in_single_shopping     5.04500\n",
      "Name: 0.25, dtype: float64\n"
     ]
    }
   ],
   "source": [
    "print('data_quantile(25%):',data.quantile(q=0.25))"
   ]
  },
  {
   "cell_type": "markdown",
   "metadata": {},
   "source": [
    "### Quantile 50%"
   ]
  },
  {
   "cell_type": "code",
   "execution_count": 68,
   "metadata": {},
   "outputs": [
    {
     "name": "stdout",
     "output_type": "stream",
     "text": [
      "data_quantile(50%): spending                        14.35500\n",
      "advance_payments                14.32000\n",
      "probability_of_full_payment      0.87345\n",
      "current_balance                  5.52350\n",
      "credit_limit                     3.23700\n",
      "min_payment_amt                  3.59900\n",
      "max_spent_in_single_shopping     5.22300\n",
      "Name: 0.5, dtype: float64\n"
     ]
    }
   ],
   "source": [
    "print('data_quantile(50%):',data.quantile(q=0.50))"
   ]
  },
  {
   "cell_type": "markdown",
   "metadata": {},
   "source": [
    "### Quantile 75%"
   ]
  },
  {
   "cell_type": "code",
   "execution_count": 69,
   "metadata": {},
   "outputs": [
    {
     "name": "stdout",
     "output_type": "stream",
     "text": [
      "data_quantile(75%): spending                        17.305000\n",
      "advance_payments                15.715000\n",
      "probability_of_full_payment      0.887775\n",
      "current_balance                  5.979750\n",
      "credit_limit                     3.561750\n",
      "min_payment_amt                  4.768750\n",
      "max_spent_in_single_shopping     5.877000\n",
      "Name: 0.75, dtype: float64\n"
     ]
    }
   ],
   "source": [
    "print('data_quantile(75%):',data.quantile(q=0.75))"
   ]
  },
  {
   "cell_type": "markdown",
   "metadata": {},
   "source": [
    "<span style=\"font-family: Arial; font-weight:bold;font-size:1.5em;color:#00b3e5;\">Checking the Measures of Dispersion"
   ]
  },
  {
   "cell_type": "code",
   "execution_count": 100,
   "metadata": {},
   "outputs": [
    {
     "data": {
      "text/plain": [
       "spending                        5.035000\n",
       "advance_payments                2.265000\n",
       "probability_of_full_payment     0.030875\n",
       "current_balance                 0.717500\n",
       "credit_limit                    0.617750\n",
       "min_payment_amt                 2.207250\n",
       "max_spent_in_single_shopping    0.832000\n",
       "dtype: float64"
      ]
     },
     "execution_count": 100,
     "metadata": {},
     "output_type": "execute_result"
    }
   ],
   "source": [
    "# IQR\n",
    "\n",
    "data.quantile(0.75)-data.quantile(0.25)"
   ]
  },
  {
   "cell_type": "code",
   "execution_count": 101,
   "metadata": {},
   "outputs": [
    {
     "data": {
      "text/plain": [
       "spending                        10.5900\n",
       "advance_payments                 4.8400\n",
       "probability_of_full_payment      0.1102\n",
       "current_balance                  1.7760\n",
       "credit_limit                     1.4030\n",
       "min_payment_amt                  7.6909\n",
       "max_spent_in_single_shopping     2.0310\n",
       "dtype: float64"
      ]
     },
     "execution_count": 101,
     "metadata": {},
     "output_type": "execute_result"
    }
   ],
   "source": [
    "#  Range\n",
    "\n",
    "data.max()-data.min()"
   ]
  },
  {
   "cell_type": "code",
   "execution_count": 102,
   "metadata": {},
   "outputs": [
    {
     "data": {
      "text/plain": [
       "spending                        8.466351\n",
       "advance_payments                1.705528\n",
       "probability_of_full_payment     0.000558\n",
       "current_balance                 0.196305\n",
       "credit_limit                    0.142668\n",
       "min_payment_amt                 2.260684\n",
       "max_spent_in_single_shopping    0.241553\n",
       "dtype: float64"
      ]
     },
     "execution_count": 102,
     "metadata": {},
     "output_type": "execute_result"
    }
   ],
   "source": [
    "#  Variance\n",
    "\n",
    "data.var()"
   ]
  },
  {
   "cell_type": "code",
   "execution_count": 103,
   "metadata": {},
   "outputs": [
    {
     "data": {
      "text/plain": [
       "spending                        2.909699\n",
       "advance_payments                1.305959\n",
       "probability_of_full_payment     0.023629\n",
       "current_balance                 0.443063\n",
       "credit_limit                    0.377714\n",
       "min_payment_amt                 1.503557\n",
       "max_spent_in_single_shopping    0.491480\n",
       "dtype: float64"
      ]
     },
     "execution_count": 103,
     "metadata": {},
     "output_type": "execute_result"
    }
   ],
   "source": [
    "# standard deviation\n",
    "\n",
    "data.std()"
   ]
  },
  {
   "cell_type": "markdown",
   "metadata": {},
   "source": [
    "<span style=\"font-family: Arial; font-weight:bold;font-size:1.5em;color:#00b3e5;\"> Plotting the summary mean,mode,median using histogram"
   ]
  },
  {
   "cell_type": "code",
   "execution_count": 87,
   "metadata": {},
   "outputs": [
    {
     "name": "stdout",
     "output_type": "stream",
     "text": [
      "Mean:  14.847523809523818 \n",
      "Median:  14.355 \n",
      "Mode:  11.23\n"
     ]
    },
    {
     "data": {
      "image/png": "[encoded data removed]",
      "text/plain": [
       "<Figure size 720x360 with 1 Axes>"
      ]
     },
     "metadata": {
      "needs_background": "light"
     },
     "output_type": "display_data"
    }
   ],
   "source": [
    "mean = data['spending'].mean()\n",
    "median = data['spending'].median()\n",
    "mode = data['spending'].mode()\n",
    "print('Mean: ',mean,'\\nMedian: ',median,'\\nMode: ',mode[0])\n",
    "\n",
    "plt.figure(figsize=(10,5))\n",
    "plt.hist(data['spending'],bins=100,color='lightblue') #plot histogram\n",
    "\n",
    "# draw lines for mean,mode,median\n",
    "\n",
    "plt.axvline(mean,color='green',label='mean')\n",
    "plt.axvline(median,color='blue',label='median')\n",
    "plt.axvline(mode[0],color='red',label='mode 1')\n",
    "plt.axvline(mode[1],color='red',label='mode 2')\n",
    "plt.axvline(mode[2],color='red',label='mode 3')\n",
    "\n",
    "# label x axis\n",
    "\n",
    "plt.xlabel('spending')\n",
    "\n",
    "# label y axis\n",
    "\n",
    "plt.ylabel('Frequency')\n",
    "\n",
    "# plot legend\n",
    "\n",
    "plt.legend()\n",
    "\n",
    "plt.show()"
   ]
  },
  {
   "cell_type": "code",
   "execution_count": 88,
   "metadata": {},
   "outputs": [
    {
     "name": "stdout",
     "output_type": "stream",
     "text": [
      "Mean:  14.559285714285727 \n",
      "Median:  14.32 \n",
      "Mode:  13.47\n"
     ]
    },
    {
     "data": {
      "image/png": "[encoded data removed]",
      "text/plain": [
       "<Figure size 720x360 with 1 Axes>"
      ]
     },
     "metadata": {
      "needs_background": "light"
     },
     "output_type": "display_data"
    }
   ],
   "source": [
    "mean = data['advance_payments'].mean()\n",
    "median = data['advance_payments'].median()\n",
    "mode = data['advance_payments'].mode()\n",
    "print('Mean: ',mean,'\\nMedian: ',median,'\\nMode: ',mode[0])\n",
    "\n",
    "plt.figure(figsize=(10,5))\n",
    "plt.hist(data['advance_payments'],bins=100,color='lightblue') #plot histogram\n",
    "\n",
    "# draw lines for mean,mode,median\n",
    "\n",
    "plt.axvline(mean,color='green',label='mean')\n",
    "plt.axvline(median,color='blue',label='median')\n",
    "plt.axvline(mode[0],color='red',label='mode')\n",
    "\n",
    "# label x axis\n",
    "\n",
    "plt.xlabel('advance_payments')\n",
    "\n",
    "# label y axis\n",
    "\n",
    "plt.ylabel('Frequency')\n",
    "\n",
    "# plot legend\n",
    "\n",
    "plt.legend()\n",
    "\n",
    "plt.show()"
   ]
  },
  {
   "cell_type": "code",
   "execution_count": 89,
   "metadata": {},
   "outputs": [
    {
     "name": "stdout",
     "output_type": "stream",
     "text": [
      "Mean:  0.8709985714285714 \n",
      "Median:  0.8734500000000001 \n",
      "Mode:  0.8823\n"
     ]
    },
    {
     "data": {
      "image/png": "[encoded data removed]",
      "text/plain": [
       "<Figure size 720x360 with 1 Axes>"
      ]
     },
     "metadata": {
      "needs_background": "light"
     },
     "output_type": "display_data"
    }
   ],
   "source": [
    "mean = data['probability_of_full_payment'].mean()\n",
    "median = data['probability_of_full_payment'].median()\n",
    "mode = data['probability_of_full_payment'].mode()\n",
    "print('Mean: ',mean,'\\nMedian: ',median,'\\nMode: ',mode[0])\n",
    "\n",
    "plt.figure(figsize=(10,5))\n",
    "plt.hist(data['probability_of_full_payment'],bins=100,color='lightblue') #plot histogram\n",
    "\n",
    "# draw lines for mean,mode,median\n",
    "\n",
    "plt.axvline(mean,color='green',label='mean')\n",
    "plt.axvline(median,color='blue',label='median')\n",
    "plt.axvline(mode[0],color='red',label='mode')\n",
    "\n",
    "# label x axis\n",
    "\n",
    "plt.xlabel('probability_of_full_payment')\n",
    "\n",
    "# label y axis\n",
    "\n",
    "plt.ylabel('Frequency')\n",
    "\n",
    "# plot legend\n",
    "\n",
    "plt.legend()\n",
    "\n",
    "plt.show()"
   ]
  },
  {
   "cell_type": "code",
   "execution_count": 90,
   "metadata": {},
   "outputs": [
    {
     "name": "stdout",
     "output_type": "stream",
     "text": [
      "Mean:  5.628533333333334 \n",
      "Median:  5.5235 \n",
      "Mode:  5.236000000000001\n"
     ]
    },
    {
     "data": {
      "image/png": "[encoded data removed]",
      "text/plain": [
       "<Figure size 720x360 with 1 Axes>"
      ]
     },
     "metadata": {
      "needs_background": "light"
     },
     "output_type": "display_data"
    }
   ],
   "source": [
    "mean = data['current_balance'].mean()\n",
    "median = data['current_balance'].median()\n",
    "mode = data['current_balance'].mode()\n",
    "print('Mean: ',mean,'\\nMedian: ',median,'\\nMode: ',mode[0])\n",
    "\n",
    "plt.figure(figsize=(10,5))\n",
    "plt.hist(data['current_balance'],bins=100,color='lightblue') #plot histogram\n",
    "\n",
    "# draw lines for mean,mode,median\n",
    "\n",
    "plt.axvline(mean,color='green',label='mean')\n",
    "plt.axvline(median,color='blue',label='median')\n",
    "plt.axvline(mode[0],color='red',label='mode 1')\n",
    "plt.axvline(mode[1],color='red',label='mode 2')\n",
    "\n",
    "\n",
    "# label x axis\n",
    "\n",
    "plt.xlabel('current_balance')\n",
    "\n",
    "# label y axis\n",
    "\n",
    "plt.ylabel('Frequency')\n",
    "\n",
    "# plot legend\n",
    "\n",
    "plt.legend()\n",
    "\n",
    "plt.show()"
   ]
  },
  {
   "cell_type": "code",
   "execution_count": 91,
   "metadata": {},
   "outputs": [
    {
     "name": "stdout",
     "output_type": "stream",
     "text": [
      "Mean:  3.258604761904763 \n",
      "Median:  3.237 \n",
      "Mode:  3.0260000000000002\n"
     ]
    },
    {
     "data": {
      "image/png": "[encoded data removed]",
      "text/plain": [
       "<Figure size 720x360 with 1 Axes>"
      ]
     },
     "metadata": {
      "needs_background": "light"
     },
     "output_type": "display_data"
    }
   ],
   "source": [
    "mean = data['credit_limit'].mean()\n",
    "median = data['credit_limit'].median()\n",
    "mode = data['credit_limit'].mode()\n",
    "print('Mean: ',mean,'\\nMedian: ',median,'\\nMode: ',mode[0])\n",
    "\n",
    "plt.figure(figsize=(10,5))\n",
    "plt.hist(data['credit_limit'],bins=100,color='lightblue') #plot histogram\n",
    "\n",
    "# draw lines for mean,mode,median\n",
    "\n",
    "plt.axvline(mean,color='green',label='mean')\n",
    "plt.axvline(median,color='blue',label='median')\n",
    "plt.axvline(mode[0],color='red',label='mode 1')\n",
    "\n",
    "\n",
    "# label x axis\n",
    "\n",
    "plt.xlabel('credit_limit')\n",
    "\n",
    "# label y axis\n",
    "\n",
    "plt.ylabel('Frequency')\n",
    "\n",
    "# plot legend\n",
    "\n",
    "plt.legend()\n",
    "\n",
    "plt.show()"
   ]
  },
  {
   "cell_type": "code",
   "execution_count": 92,
   "metadata": {},
   "outputs": [
    {
     "name": "stdout",
     "output_type": "stream",
     "text": [
      "Mean:  3.7002009523809507 \n",
      "Median:  3.599 \n",
      "Mode:  2.129\n"
     ]
    },
    {
     "data": {
      "image/png": "[encoded data removed]",
      "text/plain": [
       "<Figure size 720x360 with 1 Axes>"
      ]
     },
     "metadata": {
      "needs_background": "light"
     },
     "output_type": "display_data"
    }
   ],
   "source": [
    "mean = data['min_payment_amt'].mean()\n",
    "median = data['min_payment_amt'].median()\n",
    "mode = data['min_payment_amt'].mode()\n",
    "print('Mean: ',mean,'\\nMedian: ',median,'\\nMode: ',mode[0])\n",
    "\n",
    "plt.figure(figsize=(10,5))\n",
    "plt.hist(data['min_payment_amt'],bins=100,color='lightblue') #plot histogram\n",
    "\n",
    "# draw lines for mean,mode,median\n",
    "\n",
    "plt.axvline(mean,color='green',label='mean')\n",
    "plt.axvline(median,color='blue',label='median')\n",
    "plt.axvline(mode[0],color='red',label='mode 1')\n",
    "plt.axvline(mode[1],color='red',label='mode 2')\n",
    "plt.axvline(mode[2],color='red',label='mode 3')\n",
    "\n",
    "# label x axis\n",
    "\n",
    "plt.xlabel('min_payment_amt')\n",
    "\n",
    "# label y axis\n",
    "\n",
    "plt.ylabel('Frequency')\n",
    "\n",
    "# plot legend\n",
    "\n",
    "plt.legend()\n",
    "\n",
    "plt.show()"
   ]
  },
  {
   "cell_type": "code",
   "execution_count": 94,
   "metadata": {},
   "outputs": [
    {
     "name": "stdout",
     "output_type": "stream",
     "text": [
      "Mean:  5.408071428571429 \n",
      "Median:  5.223000000000001 \n",
      "Mode:  5.001\n"
     ]
    },
    {
     "data": {
      "image/png": "[encoded data removed]",
      "text/plain": [
       "<Figure size 720x360 with 1 Axes>"
      ]
     },
     "metadata": {
      "needs_background": "light"
     },
     "output_type": "display_data"
    }
   ],
   "source": [
    "mean = data['max_spent_in_single_shopping'].mean()\n",
    "median = data['max_spent_in_single_shopping'].median()\n",
    "mode = data['max_spent_in_single_shopping'].mode()\n",
    "print('Mean: ',mean,'\\nMedian: ',median,'\\nMode: ',mode[0])\n",
    "\n",
    "plt.figure(figsize=(10,5))\n",
    "plt.hist(data['max_spent_in_single_shopping'],bins=100,color='lightblue') #plot histogram\n",
    "\n",
    "# draw lines for mean,mode,median\n",
    "\n",
    "plt.axvline(mean,color='green',label='mean')\n",
    "plt.axvline(median,color='blue',label='median')\n",
    "plt.axvline(mode[0],color='red',label='mode 1')\n",
    "\n",
    "# label x axis\n",
    "\n",
    "plt.xlabel('max_spent_in_single_shopping')\n",
    "\n",
    "# label y axis\n",
    "\n",
    "plt.ylabel('Frequency')\n",
    "\n",
    "# plot legend\n",
    "\n",
    "plt.legend()\n",
    "\n",
    "plt.show()"
   ]
  },
  {
   "cell_type": "markdown",
   "metadata": {},
   "source": [
    "<span style=\"font-family: Arial; font-weight:bold;font-size:1.5em;color:#00b3e5;\">Checking Covariance and Correlation"
   ]
  },
  {
   "cell_type": "code",
   "execution_count": 104,
   "metadata": {},
   "outputs": [
    {
     "data": {
      "text/html": [
       "<div>\n",
       "<style scoped>\n",
       "    .dataframe tbody tr th:only-of-type {\n",
       "        vertical-align: middle;\n",
       "    }\n",
       "\n",
       "    .dataframe tbody tr th {\n",
       "        vertical-align: top;\n",
       "    }\n",
       "\n",
       "    .dataframe thead th {\n",
       "        text-align: right;\n",
       "    }\n",
       "</style>\n",
       "<table border=\"1\" class=\"dataframe\">\n",
       "  <thead>\n",
       "    <tr style=\"text-align: right;\">\n",
       "      <th></th>\n",
       "      <th>spending</th>\n",
       "      <th>advance_payments</th>\n",
       "      <th>probability_of_full_payment</th>\n",
       "      <th>current_balance</th>\n",
       "      <th>credit_limit</th>\n",
       "      <th>min_payment_amt</th>\n",
       "      <th>max_spent_in_single_shopping</th>\n",
       "    </tr>\n",
       "  </thead>\n",
       "  <tbody>\n",
       "    <tr>\n",
       "      <th>spending</th>\n",
       "      <td>8.466351</td>\n",
       "      <td>3.778443</td>\n",
       "      <td>0.041823</td>\n",
       "      <td>1.224704</td>\n",
       "      <td>1.066911</td>\n",
       "      <td>-1.004356</td>\n",
       "      <td>1.235133</td>\n",
       "    </tr>\n",
       "    <tr>\n",
       "      <th>advance_payments</th>\n",
       "      <td>3.778443</td>\n",
       "      <td>1.705528</td>\n",
       "      <td>0.016332</td>\n",
       "      <td>0.562666</td>\n",
       "      <td>0.466065</td>\n",
       "      <td>-0.426766</td>\n",
       "      <td>0.571753</td>\n",
       "    </tr>\n",
       "    <tr>\n",
       "      <th>probability_of_full_payment</th>\n",
       "      <td>0.041823</td>\n",
       "      <td>0.016332</td>\n",
       "      <td>0.000558</td>\n",
       "      <td>0.003852</td>\n",
       "      <td>0.006798</td>\n",
       "      <td>-0.011777</td>\n",
       "      <td>0.002634</td>\n",
       "    </tr>\n",
       "    <tr>\n",
       "      <th>current_balance</th>\n",
       "      <td>1.224704</td>\n",
       "      <td>0.562666</td>\n",
       "      <td>0.003852</td>\n",
       "      <td>0.196305</td>\n",
       "      <td>0.143992</td>\n",
       "      <td>-0.114290</td>\n",
       "      <td>0.203125</td>\n",
       "    </tr>\n",
       "    <tr>\n",
       "      <th>credit_limit</th>\n",
       "      <td>1.066911</td>\n",
       "      <td>0.466065</td>\n",
       "      <td>0.006798</td>\n",
       "      <td>0.143992</td>\n",
       "      <td>0.142668</td>\n",
       "      <td>-0.146543</td>\n",
       "      <td>0.139068</td>\n",
       "    </tr>\n",
       "    <tr>\n",
       "      <th>min_payment_amt</th>\n",
       "      <td>-1.004356</td>\n",
       "      <td>-0.426766</td>\n",
       "      <td>-0.011777</td>\n",
       "      <td>-0.114290</td>\n",
       "      <td>-0.146543</td>\n",
       "      <td>2.260684</td>\n",
       "      <td>-0.008187</td>\n",
       "    </tr>\n",
       "    <tr>\n",
       "      <th>max_spent_in_single_shopping</th>\n",
       "      <td>1.235133</td>\n",
       "      <td>0.571753</td>\n",
       "      <td>0.002634</td>\n",
       "      <td>0.203125</td>\n",
       "      <td>0.139068</td>\n",
       "      <td>-0.008187</td>\n",
       "      <td>0.241553</td>\n",
       "    </tr>\n",
       "  </tbody>\n",
       "</table>\n",
       "</div>"
      ],
      "text/plain": [
       "                              spending  advance_payments  \\\n",
       "spending                      8.466351          3.778443   \n",
       "advance_payments              3.778443          1.705528   \n",
       "probability_of_full_payment   0.041823          0.016332   \n",
       "current_balance               1.224704          0.562666   \n",
       "credit_limit                  1.066911          0.466065   \n",
       "min_payment_amt              -1.004356         -0.426766   \n",
       "max_spent_in_single_shopping  1.235133          0.571753   \n",
       "\n",
       "                              probability_of_full_payment  current_balance  \\\n",
       "spending                                         0.041823         1.224704   \n",
       "advance_payments                                 0.016332         0.562666   \n",
       "probability_of_full_payment                      0.000558         0.003852   \n",
       "current_balance                                  0.003852         0.196305   \n",
       "credit_limit                                     0.006798         0.143992   \n",
       "min_payment_amt                                 -0.011777        -0.114290   \n",
       "max_spent_in_single_shopping                     0.002634         0.203125   \n",
       "\n",
       "                              credit_limit  min_payment_amt  \\\n",
       "spending                          1.066911        -1.004356   \n",
       "advance_payments                  0.466065        -0.426766   \n",
       "probability_of_full_payment       0.006798        -0.011777   \n",
       "current_balance                   0.143992        -0.114290   \n",
       "credit_limit                      0.142668        -0.146543   \n",
       "min_payment_amt                  -0.146543         2.260684   \n",
       "max_spent_in_single_shopping      0.139068        -0.008187   \n",
       "\n",
       "                              max_spent_in_single_shopping  \n",
       "spending                                          1.235133  \n",
       "advance_payments                                  0.571753  \n",
       "probability_of_full_payment                       0.002634  \n",
       "current_balance                                   0.203125  \n",
       "credit_limit                                      0.139068  \n",
       "min_payment_amt                                  -0.008187  \n",
       "max_spent_in_single_shopping                      0.241553  "
      ]
     },
     "execution_count": 104,
     "metadata": {},
     "output_type": "execute_result"
    }
   ],
   "source": [
    "data.cov()"
   ]
  },
  {
   "cell_type": "code",
   "execution_count": 105,
   "metadata": {},
   "outputs": [
    {
     "data": {
      "text/html": [
       "<div>\n",
       "<style scoped>\n",
       "    .dataframe tbody tr th:only-of-type {\n",
       "        vertical-align: middle;\n",
       "    }\n",
       "\n",
       "    .dataframe tbody tr th {\n",
       "        vertical-align: top;\n",
       "    }\n",
       "\n",
       "    .dataframe thead th {\n",
       "        text-align: right;\n",
       "    }\n",
       "</style>\n",
       "<table border=\"1\" class=\"dataframe\">\n",
       "  <thead>\n",
       "    <tr style=\"text-align: right;\">\n",
       "      <th></th>\n",
       "      <th>spending</th>\n",
       "      <th>advance_payments</th>\n",
       "      <th>probability_of_full_payment</th>\n",
       "      <th>current_balance</th>\n",
       "      <th>credit_limit</th>\n",
       "      <th>min_payment_amt</th>\n",
       "      <th>max_spent_in_single_shopping</th>\n",
       "    </tr>\n",
       "  </thead>\n",
       "  <tbody>\n",
       "    <tr>\n",
       "      <th>spending</th>\n",
       "      <td>1.000000</td>\n",
       "      <td>0.994341</td>\n",
       "      <td>0.608288</td>\n",
       "      <td>0.949985</td>\n",
       "      <td>0.970771</td>\n",
       "      <td>-0.229572</td>\n",
       "      <td>0.863693</td>\n",
       "    </tr>\n",
       "    <tr>\n",
       "      <th>advance_payments</th>\n",
       "      <td>0.994341</td>\n",
       "      <td>1.000000</td>\n",
       "      <td>0.529244</td>\n",
       "      <td>0.972422</td>\n",
       "      <td>0.944829</td>\n",
       "      <td>-0.217340</td>\n",
       "      <td>0.890784</td>\n",
       "    </tr>\n",
       "    <tr>\n",
       "      <th>probability_of_full_payment</th>\n",
       "      <td>0.608288</td>\n",
       "      <td>0.529244</td>\n",
       "      <td>1.000000</td>\n",
       "      <td>0.367915</td>\n",
       "      <td>0.761635</td>\n",
       "      <td>-0.331471</td>\n",
       "      <td>0.226825</td>\n",
       "    </tr>\n",
       "    <tr>\n",
       "      <th>current_balance</th>\n",
       "      <td>0.949985</td>\n",
       "      <td>0.972422</td>\n",
       "      <td>0.367915</td>\n",
       "      <td>1.000000</td>\n",
       "      <td>0.860415</td>\n",
       "      <td>-0.171562</td>\n",
       "      <td>0.932806</td>\n",
       "    </tr>\n",
       "    <tr>\n",
       "      <th>credit_limit</th>\n",
       "      <td>0.970771</td>\n",
       "      <td>0.944829</td>\n",
       "      <td>0.761635</td>\n",
       "      <td>0.860415</td>\n",
       "      <td>1.000000</td>\n",
       "      <td>-0.258037</td>\n",
       "      <td>0.749131</td>\n",
       "    </tr>\n",
       "    <tr>\n",
       "      <th>min_payment_amt</th>\n",
       "      <td>-0.229572</td>\n",
       "      <td>-0.217340</td>\n",
       "      <td>-0.331471</td>\n",
       "      <td>-0.171562</td>\n",
       "      <td>-0.258037</td>\n",
       "      <td>1.000000</td>\n",
       "      <td>-0.011079</td>\n",
       "    </tr>\n",
       "    <tr>\n",
       "      <th>max_spent_in_single_shopping</th>\n",
       "      <td>0.863693</td>\n",
       "      <td>0.890784</td>\n",
       "      <td>0.226825</td>\n",
       "      <td>0.932806</td>\n",
       "      <td>0.749131</td>\n",
       "      <td>-0.011079</td>\n",
       "      <td>1.000000</td>\n",
       "    </tr>\n",
       "  </tbody>\n",
       "</table>\n",
       "</div>"
      ],
      "text/plain": [
       "                              spending  advance_payments  \\\n",
       "spending                      1.000000          0.994341   \n",
       "advance_payments              0.994341          1.000000   \n",
       "probability_of_full_payment   0.608288          0.529244   \n",
       "current_balance               0.949985          0.972422   \n",
       "credit_limit                  0.970771          0.944829   \n",
       "min_payment_amt              -0.229572         -0.217340   \n",
       "max_spent_in_single_shopping  0.863693          0.890784   \n",
       "\n",
       "                              probability_of_full_payment  current_balance  \\\n",
       "spending                                         0.608288         0.949985   \n",
       "advance_payments                                 0.529244         0.972422   \n",
       "probability_of_full_payment                      1.000000         0.367915   \n",
       "current_balance                                  0.367915         1.000000   \n",
       "credit_limit                                     0.761635         0.860415   \n",
       "min_payment_amt                                 -0.331471        -0.171562   \n",
       "max_spent_in_single_shopping                     0.226825         0.932806   \n",
       "\n",
       "                              credit_limit  min_payment_amt  \\\n",
       "spending                          0.970771        -0.229572   \n",
       "advance_payments                  0.944829        -0.217340   \n",
       "probability_of_full_payment       0.761635        -0.331471   \n",
       "current_balance                   0.860415        -0.171562   \n",
       "credit_limit                      1.000000        -0.258037   \n",
       "min_payment_amt                  -0.258037         1.000000   \n",
       "max_spent_in_single_shopping      0.749131        -0.011079   \n",
       "\n",
       "                              max_spent_in_single_shopping  \n",
       "spending                                          0.863693  \n",
       "advance_payments                                  0.890784  \n",
       "probability_of_full_payment                       0.226825  \n",
       "current_balance                                   0.932806  \n",
       "credit_limit                                      0.749131  \n",
       "min_payment_amt                                  -0.011079  \n",
       "max_spent_in_single_shopping                      1.000000  "
      ]
     },
     "execution_count": 105,
     "metadata": {},
     "output_type": "execute_result"
    }
   ],
   "source": [
    "data.corr()"
   ]
  },
  {
   "cell_type": "markdown",
   "metadata": {},
   "source": [
    "<span style=\"font-family: Arial; font-weight:bold;font-size:1.5em;color:#00b3e5;\">Pairplot for checking the correlation"
   ]
  },
  {
   "cell_type": "code",
   "execution_count": 106,
   "metadata": {},
   "outputs": [
    {
     "data": {
      "image/png": "[encoded data removed]",
      "text/plain": [
       "<Figure size 1260x1260 with 56 Axes>"
      ]
     },
     "metadata": {
      "needs_background": "light"
     },
     "output_type": "display_data"
    }
   ],
   "source": [
    "import seaborn as sns\n",
    "sns.pairplot(data,kind='reg'); #plots scatter plots for every pair of attributes and histograms along the diagonal\n",
    "plt.show()"
   ]
  },
  {
   "cell_type": "markdown",
   "metadata": {},
   "source": [
    "<span style=\"font-family: Arial; font-weight:bold;font-size:1.5em;color:#00b3e5;\"> Heatmap For checking the correlation"
   ]
  },
  {
   "cell_type": "code",
   "execution_count": 107,
   "metadata": {},
   "outputs": [
    {
     "data": {
      "image/png": "[encoded data removed]",
      "text/plain": [
       "<Figure size 720x720 with 2 Axes>"
      ]
     },
     "metadata": {
      "needs_background": "light"
     },
     "output_type": "display_data"
    }
   ],
   "source": [
    "fig,ax = plt.subplots(figsize=(10, 10))   \n",
    "sns.heatmap(data.corr(), ax=ax, annot=True, linewidths=0.05, fmt= '.2f',cmap=\"magma\")\n",
    "plt.show()"
   ]
  },
  {
   "cell_type": "markdown",
   "metadata": {},
   "source": [
    "There is some negative correlation between variables. spending and advance_payments are highly correlated. spending and credit_limit are also highly correlated.advance_payments and current_balance are also strongly correlated.probability_of_payment and min_payment_amt are negatively and least correlated."
   ]
  },
  {
   "cell_type": "markdown",
   "metadata": {},
   "source": [
    "<span style=\"font-family: Arial; font-weight:bold;font-size:1.5em;color:#00b3e5;\">Checking the Skewness "
   ]
  },
  {
   "cell_type": "code",
   "execution_count": 109,
   "metadata": {},
   "outputs": [
    {
     "data": {
      "text/plain": [
       "spending                        0.399889\n",
       "advance_payments                0.386573\n",
       "probability_of_full_payment    -0.537954\n",
       "current_balance                 0.525482\n",
       "credit_limit                    0.134378\n",
       "min_payment_amt                 0.401667\n",
       "max_spent_in_single_shopping    0.561897\n",
       "dtype: float64"
      ]
     },
     "execution_count": 109,
     "metadata": {},
     "output_type": "execute_result"
    }
   ],
   "source": [
    "data.skew()"
   ]
  },
  {
   "cell_type": "code",
   "execution_count": null,
   "metadata": {},
   "outputs": [],
   "source": []
  },
  {
   "cell_type": "markdown",
   "metadata": {},
   "source": [
    "<span style=\"font-family: Arial; font-weight:bold;font-size:1.5em;color:#00b3e5;\"> Checking the missing values"
   ]
  },
  {
   "cell_type": "code",
   "execution_count": 96,
   "metadata": {},
   "outputs": [
    {
     "data": {
      "text/plain": [
       "spending                        0\n",
       "advance_payments                0\n",
       "probability_of_full_payment     0\n",
       "current_balance                 0\n",
       "credit_limit                    0\n",
       "min_payment_amt                 0\n",
       "max_spent_in_single_shopping    0\n",
       "dtype: int64"
      ]
     },
     "execution_count": 96,
     "metadata": {},
     "output_type": "execute_result"
    }
   ],
   "source": [
    "data.isnull().sum()"
   ]
  },
  {
   "cell_type": "markdown",
   "metadata": {},
   "source": [
    "**no missing values**"
   ]
  },
  {
   "cell_type": "markdown",
   "metadata": {},
   "source": [
    "<span style=\"font-family: Arial; font-weight:bold;font-size:1.5em;color:#00b3e5;\"> Checking the duplicate values"
   ]
  },
  {
   "cell_type": "code",
   "execution_count": 97,
   "metadata": {},
   "outputs": [
    {
     "data": {
      "text/plain": [
       "0"
      ]
     },
     "execution_count": 97,
     "metadata": {},
     "output_type": "execute_result"
    }
   ],
   "source": [
    "data.duplicated().sum()"
   ]
  },
  {
   "cell_type": "markdown",
   "metadata": {},
   "source": [
    "**No duplicate values**"
   ]
  },
  {
   "cell_type": "markdown",
   "metadata": {},
   "source": [
    "<span style=\"font-family: Arial; font-weight:bold;font-size:1.5em;color:#00b3e5;\"> Checking for outliers"
   ]
  },
  {
   "cell_type": "code",
   "execution_count": 98,
   "metadata": {},
   "outputs": [
    {
     "data": {
      "text/plain": [
       "<matplotlib.axes._subplots.AxesSubplot at 0x7fefcb9a2400>"
      ]
     },
     "execution_count": 98,
     "metadata": {},
     "output_type": "execute_result"
    },
    {
     "data": {
      "image/png": "[encoded data removed]",
      "text/plain": [
       "<Figure size 1080x1080 with 1 Axes>"
      ]
     },
     "metadata": {
      "needs_background": "light"
     },
     "output_type": "display_data"
    }
   ],
   "source": [
    "# construct box plot for continuous variables\n",
    "plt.figure(figsize=(15,15))\n",
    "data[['spending', 'advance_payments', \n",
    "    'probability_of_full_payment', 'current_balance', 'credit_limit', \n",
    "      'min_payment_amt', 'max_spent_in_single_shopping']].boxplot(vert=0)"
   ]
  },
  {
   "cell_type": "markdown",
   "metadata": {},
   "source": [
    "**There are outliers in min_payment_amt and probability_of_full_payment**"
   ]
  },
  {
   "cell_type": "code",
   "execution_count": 114,
   "metadata": {},
   "outputs": [
    {
     "data": {
      "text/html": [
       "<div>\n",
       "<style scoped>\n",
       "    .dataframe tbody tr th:only-of-type {\n",
       "        vertical-align: middle;\n",
       "    }\n",
       "\n",
       "    .dataframe tbody tr th {\n",
       "        vertical-align: top;\n",
       "    }\n",
       "\n",
       "    .dataframe thead th {\n",
       "        text-align: right;\n",
       "    }\n",
       "</style>\n",
       "<table border=\"1\" class=\"dataframe\">\n",
       "  <thead>\n",
       "    <tr style=\"text-align: right;\">\n",
       "      <th></th>\n",
       "      <th>spending</th>\n",
       "      <th>advance_payments</th>\n",
       "      <th>probability_of_full_payment</th>\n",
       "      <th>current_balance</th>\n",
       "      <th>credit_limit</th>\n",
       "      <th>min_payment_amt</th>\n",
       "      <th>max_spent_in_single_shopping</th>\n",
       "    </tr>\n",
       "  </thead>\n",
       "  <tbody>\n",
       "    <tr>\n",
       "      <th>0</th>\n",
       "      <td>19.94</td>\n",
       "      <td>16.92</td>\n",
       "      <td>0.8752</td>\n",
       "      <td>6.675</td>\n",
       "      <td>3.763</td>\n",
       "      <td>3.252</td>\n",
       "      <td>6.550</td>\n",
       "    </tr>\n",
       "    <tr>\n",
       "      <th>1</th>\n",
       "      <td>15.99</td>\n",
       "      <td>14.89</td>\n",
       "      <td>0.9064</td>\n",
       "      <td>5.363</td>\n",
       "      <td>3.582</td>\n",
       "      <td>3.336</td>\n",
       "      <td>5.144</td>\n",
       "    </tr>\n",
       "    <tr>\n",
       "      <th>2</th>\n",
       "      <td>18.95</td>\n",
       "      <td>16.42</td>\n",
       "      <td>0.8829</td>\n",
       "      <td>6.248</td>\n",
       "      <td>3.755</td>\n",
       "      <td>3.368</td>\n",
       "      <td>6.148</td>\n",
       "    </tr>\n",
       "    <tr>\n",
       "      <th>3</th>\n",
       "      <td>10.83</td>\n",
       "      <td>12.96</td>\n",
       "      <td>0.8099</td>\n",
       "      <td>5.278</td>\n",
       "      <td>2.641</td>\n",
       "      <td>5.182</td>\n",
       "      <td>5.185</td>\n",
       "    </tr>\n",
       "    <tr>\n",
       "      <th>4</th>\n",
       "      <td>17.99</td>\n",
       "      <td>15.86</td>\n",
       "      <td>0.8992</td>\n",
       "      <td>5.890</td>\n",
       "      <td>3.694</td>\n",
       "      <td>2.068</td>\n",
       "      <td>5.837</td>\n",
       "    </tr>\n",
       "  </tbody>\n",
       "</table>\n",
       "</div>"
      ],
      "text/plain": [
       "   spending  advance_payments  probability_of_full_payment  current_balance  \\\n",
       "0     19.94             16.92                       0.8752            6.675   \n",
       "1     15.99             14.89                       0.9064            5.363   \n",
       "2     18.95             16.42                       0.8829            6.248   \n",
       "3     10.83             12.96                       0.8099            5.278   \n",
       "4     17.99             15.86                       0.8992            5.890   \n",
       "\n",
       "   credit_limit  min_payment_amt  max_spent_in_single_shopping  \n",
       "0         3.763            3.252                         6.550  \n",
       "1         3.582            3.336                         5.144  \n",
       "2         3.755            3.368                         6.148  \n",
       "3         2.641            5.182                         5.185  \n",
       "4         3.694            2.068                         5.837  "
      ]
     },
     "execution_count": 114,
     "metadata": {},
     "output_type": "execute_result"
    }
   ],
   "source": [
    "data_copied = data.copy()\n",
    "data_copied.head()"
   ]
  },
  {
   "cell_type": "markdown",
   "metadata": {},
   "source": [
    "<span style=\"font-family: Arial; font-weight:bold;font-size:1.5em;color:#00b3e5;\"> 1.2  Do you think scaling is necessary for clustering in this case? Justify\n",
    "    "
   ]
  },
  {
   "cell_type": "code",
   "execution_count": 112,
   "metadata": {},
   "outputs": [
    {
     "data": {
      "text/html": [
       "<div>\n",
       "<style scoped>\n",
       "    .dataframe tbody tr th:only-of-type {\n",
       "        vertical-align: middle;\n",
       "    }\n",
       "\n",
       "    .dataframe tbody tr th {\n",
       "        vertical-align: top;\n",
       "    }\n",
       "\n",
       "    .dataframe thead th {\n",
       "        text-align: right;\n",
       "    }\n",
       "</style>\n",
       "<table border=\"1\" class=\"dataframe\">\n",
       "  <thead>\n",
       "    <tr style=\"text-align: right;\">\n",
       "      <th></th>\n",
       "      <th>spending</th>\n",
       "      <th>advance_payments</th>\n",
       "      <th>probability_of_full_payment</th>\n",
       "      <th>current_balance</th>\n",
       "      <th>credit_limit</th>\n",
       "      <th>min_payment_amt</th>\n",
       "      <th>max_spent_in_single_shopping</th>\n",
       "    </tr>\n",
       "  </thead>\n",
       "  <tbody>\n",
       "    <tr>\n",
       "      <th>count</th>\n",
       "      <td>210.000000</td>\n",
       "      <td>210.000000</td>\n",
       "      <td>210.000000</td>\n",
       "      <td>210.000000</td>\n",
       "      <td>210.000000</td>\n",
       "      <td>210.000000</td>\n",
       "      <td>210.000000</td>\n",
       "    </tr>\n",
       "    <tr>\n",
       "      <th>mean</th>\n",
       "      <td>14.847524</td>\n",
       "      <td>14.559286</td>\n",
       "      <td>0.870999</td>\n",
       "      <td>5.628533</td>\n",
       "      <td>3.258605</td>\n",
       "      <td>3.700201</td>\n",
       "      <td>5.408071</td>\n",
       "    </tr>\n",
       "    <tr>\n",
       "      <th>std</th>\n",
       "      <td>2.909699</td>\n",
       "      <td>1.305959</td>\n",
       "      <td>0.023629</td>\n",
       "      <td>0.443063</td>\n",
       "      <td>0.377714</td>\n",
       "      <td>1.503557</td>\n",
       "      <td>0.491480</td>\n",
       "    </tr>\n",
       "    <tr>\n",
       "      <th>min</th>\n",
       "      <td>10.590000</td>\n",
       "      <td>12.410000</td>\n",
       "      <td>0.808100</td>\n",
       "      <td>4.899000</td>\n",
       "      <td>2.630000</td>\n",
       "      <td>0.765100</td>\n",
       "      <td>4.519000</td>\n",
       "    </tr>\n",
       "    <tr>\n",
       "      <th>25%</th>\n",
       "      <td>12.270000</td>\n",
       "      <td>13.450000</td>\n",
       "      <td>0.856900</td>\n",
       "      <td>5.262250</td>\n",
       "      <td>2.944000</td>\n",
       "      <td>2.561500</td>\n",
       "      <td>5.045000</td>\n",
       "    </tr>\n",
       "    <tr>\n",
       "      <th>50%</th>\n",
       "      <td>14.355000</td>\n",
       "      <td>14.320000</td>\n",
       "      <td>0.873450</td>\n",
       "      <td>5.523500</td>\n",
       "      <td>3.237000</td>\n",
       "      <td>3.599000</td>\n",
       "      <td>5.223000</td>\n",
       "    </tr>\n",
       "    <tr>\n",
       "      <th>75%</th>\n",
       "      <td>17.305000</td>\n",
       "      <td>15.715000</td>\n",
       "      <td>0.887775</td>\n",
       "      <td>5.979750</td>\n",
       "      <td>3.561750</td>\n",
       "      <td>4.768750</td>\n",
       "      <td>5.877000</td>\n",
       "    </tr>\n",
       "    <tr>\n",
       "      <th>max</th>\n",
       "      <td>21.180000</td>\n",
       "      <td>17.250000</td>\n",
       "      <td>0.918300</td>\n",
       "      <td>6.675000</td>\n",
       "      <td>4.033000</td>\n",
       "      <td>8.456000</td>\n",
       "      <td>6.550000</td>\n",
       "    </tr>\n",
       "  </tbody>\n",
       "</table>\n",
       "</div>"
      ],
      "text/plain": [
       "         spending  advance_payments  probability_of_full_payment  \\\n",
       "count  210.000000        210.000000                   210.000000   \n",
       "mean    14.847524         14.559286                     0.870999   \n",
       "std      2.909699          1.305959                     0.023629   \n",
       "min     10.590000         12.410000                     0.808100   \n",
       "25%     12.270000         13.450000                     0.856900   \n",
       "50%     14.355000         14.320000                     0.873450   \n",
       "75%     17.305000         15.715000                     0.887775   \n",
       "max     21.180000         17.250000                     0.918300   \n",
       "\n",
       "       current_balance  credit_limit  min_payment_amt  \\\n",
       "count       210.000000    210.000000       210.000000   \n",
       "mean          5.628533      3.258605         3.700201   \n",
       "std           0.443063      0.377714         1.503557   \n",
       "min           4.899000      2.630000         0.765100   \n",
       "25%           5.262250      2.944000         2.561500   \n",
       "50%           5.523500      3.237000         3.599000   \n",
       "75%           5.979750      3.561750         4.768750   \n",
       "max           6.675000      4.033000         8.456000   \n",
       "\n",
       "       max_spent_in_single_shopping  \n",
       "count                    210.000000  \n",
       "mean                       5.408071  \n",
       "std                        0.491480  \n",
       "min                        4.519000  \n",
       "25%                        5.045000  \n",
       "50%                        5.223000  \n",
       "75%                        5.877000  \n",
       "max                        6.550000  "
      ]
     },
     "execution_count": 112,
     "metadata": {},
     "output_type": "execute_result"
    }
   ],
   "source": [
    "data.describe()"
   ]
  },
  {
   "cell_type": "markdown",
   "metadata": {},
   "source": [
    "**By checking the summary, we can say that min,max and mean are not equal for all the columns.scaling is necessary**"
   ]
  },
  {
   "cell_type": "markdown",
   "metadata": {},
   "source": [
    "<span style=\"font-family: Arial; font-weight:bold;font-size:1.5em;color:#00b3e5;\"> scaling the data"
   ]
  },
  {
   "cell_type": "code",
   "execution_count": 116,
   "metadata": {},
   "outputs": [
    {
     "data": {
      "text/plain": [
       "MinMaxScaler()"
      ]
     },
     "execution_count": 116,
     "metadata": {},
     "output_type": "execute_result"
    }
   ],
   "source": [
    "from sklearn.preprocessing import MinMaxScaler\n",
    "\n",
    "minmax_scale = MinMaxScaler()\n",
    "\n",
    "minmax_scale"
   ]
  },
  {
   "cell_type": "code",
   "execution_count": 118,
   "metadata": {},
   "outputs": [
    {
     "data": {
      "text/plain": [
       "0    0.882908\n",
       "1    0.509915\n",
       "2    0.789424\n",
       "3    0.022663\n",
       "4    0.698772\n",
       "Name: spending_MinMaxScale, dtype: float64"
      ]
     },
     "execution_count": 118,
     "metadata": {},
     "output_type": "execute_result"
    }
   ],
   "source": [
    "data_copied['spending_MinMaxScale'] = minmax_scale.fit_transform(data_copied[['spending']])\n",
    "data_copied['spending_MinMaxScale'].head(5)"
   ]
  },
  {
   "cell_type": "code",
   "execution_count": 119,
   "metadata": {},
   "outputs": [
    {
     "data": {
      "text/plain": [
       "0    0.931818\n",
       "1    0.512397\n",
       "2    0.828512\n",
       "3    0.113636\n",
       "4    0.712810\n",
       "Name: advance_payments_MinMaxScale, dtype: float64"
      ]
     },
     "execution_count": 119,
     "metadata": {},
     "output_type": "execute_result"
    }
   ],
   "source": [
    "data_copied['advance_payments_MinMaxScale'] = minmax_scale.fit_transform(data_copied[['advance_payments']])\n",
    "data_copied['advance_payments_MinMaxScale'].head(5)"
   ]
  },
  {
   "cell_type": "code",
   "execution_count": 120,
   "metadata": {},
   "outputs": [
    {
     "data": {
      "text/plain": [
       "0    0.608893\n",
       "1    0.892015\n",
       "2    0.678766\n",
       "3    0.016334\n",
       "4    0.826679\n",
       "Name: probability_of_full_payment_MinMaxScale, dtype: float64"
      ]
     },
     "execution_count": 120,
     "metadata": {},
     "output_type": "execute_result"
    }
   ],
   "source": [
    "data_copied['probability_of_full_payment_MinMaxScale'] = minmax_scale.fit_transform(data_copied[['probability_of_full_payment']])\n",
    "data_copied['probability_of_full_payment_MinMaxScale'].head(5)"
   ]
  },
  {
   "cell_type": "code",
   "execution_count": 121,
   "metadata": {},
   "outputs": [
    {
     "data": {
      "text/plain": [
       "0    1.000000\n",
       "1    0.261261\n",
       "2    0.759572\n",
       "3    0.213401\n",
       "4    0.557995\n",
       "Name: current_balance_MinMaxScale, dtype: float64"
      ]
     },
     "execution_count": 121,
     "metadata": {},
     "output_type": "execute_result"
    }
   ],
   "source": [
    "data_copied['current_balance_MinMaxScale'] = minmax_scale.fit_transform(data_copied[['current_balance']])\n",
    "data_copied['current_balance_MinMaxScale'].head(5)"
   ]
  },
  {
   "cell_type": "code",
   "execution_count": 122,
   "metadata": {},
   "outputs": [
    {
     "data": {
      "text/plain": [
       "0    0.807555\n",
       "1    0.678546\n",
       "2    0.801853\n",
       "3    0.007840\n",
       "4    0.758375\n",
       "Name: credit_limit_MinMaxScale, dtype: float64"
      ]
     },
     "execution_count": 122,
     "metadata": {},
     "output_type": "execute_result"
    }
   ],
   "source": [
    "data_copied['credit_limit_MinMaxScale'] = minmax_scale.fit_transform(data_copied[['credit_limit']])\n",
    "data_copied['credit_limit_MinMaxScale'].head(5)"
   ]
  },
  {
   "cell_type": "code",
   "execution_count": 123,
   "metadata": {},
   "outputs": [
    {
     "data": {
      "text/plain": [
       "0    0.323356\n",
       "1    0.334278\n",
       "2    0.338439\n",
       "3    0.574302\n",
       "4    0.169408\n",
       "Name: min_payment_amt_MinMaxScale, dtype: float64"
      ]
     },
     "execution_count": 123,
     "metadata": {},
     "output_type": "execute_result"
    }
   ],
   "source": [
    "data_copied['min_payment_amt_MinMaxScale'] = minmax_scale.fit_transform(data_copied[['min_payment_amt']])\n",
    "data_copied['min_payment_amt_MinMaxScale'].head(5)"
   ]
  },
  {
   "cell_type": "code",
   "execution_count": 124,
   "metadata": {},
   "outputs": [
    {
     "data": {
      "text/plain": [
       "0    1.000000\n",
       "1    0.307730\n",
       "2    0.802068\n",
       "3    0.327917\n",
       "4    0.648941\n",
       "Name: max_spent_in_single_shopping_MinMaxScale, dtype: float64"
      ]
     },
     "execution_count": 124,
     "metadata": {},
     "output_type": "execute_result"
    }
   ],
   "source": [
    "data_copied['max_spent_in_single_shopping_MinMaxScale'] = minmax_scale.fit_transform(data_copied[['max_spent_in_single_shopping']])\n",
    "data_copied['max_spent_in_single_shopping_MinMaxScale'].head(5)"
   ]
  },
  {
   "cell_type": "markdown",
   "metadata": {},
   "source": [
    "<span style=\"font-family: Arial; font-weight:bold;font-size:1.5em;color:#00b3e5;\">1.3 Apply hierarchical clustering to scaled data. Identify the number of optimum clusters using Dendrogram and briefly describe them"
   ]
  },
  {
   "cell_type": "code",
   "execution_count": 125,
   "metadata": {},
   "outputs": [],
   "source": [
    "from scipy.cluster.hierarchy import dendrogram, linkage"
   ]
  },
  {
   "cell_type": "code",
   "execution_count": 126,
   "metadata": {},
   "outputs": [],
   "source": [
    "wardlink = linkage(data_copied, method = 'ward')"
   ]
  },
  {
   "cell_type": "code",
   "execution_count": 127,
   "metadata": {},
   "outputs": [
    {
     "data": {
      "text/plain": [
       "{'icoord': [[35.0, 35.0, 45.0, 45.0],\n",
       "  [25.0, 25.0, 40.0, 40.0],\n",
       "  [15.0, 15.0, 32.5, 32.5],\n",
       "  [5.0, 5.0, 23.75, 23.75],\n",
       "  [65.0, 65.0, 75.0, 75.0],\n",
       "  [55.0, 55.0, 70.0, 70.0],\n",
       "  [85.0, 85.0, 95.0, 95.0],\n",
       "  [62.5, 62.5, 90.0, 90.0],\n",
       "  [105.0, 105.0, 115.0, 115.0],\n",
       "  [145.0, 145.0, 155.0, 155.0],\n",
       "  [135.0, 135.0, 150.0, 150.0],\n",
       "  [125.0, 125.0, 142.5, 142.5],\n",
       "  [110.0, 110.0, 133.75, 133.75],\n",
       "  [76.25, 76.25, 121.875, 121.875],\n",
       "  [14.375, 14.375, 99.0625, 99.0625],\n",
       "  [165.0, 165.0, 175.0, 175.0],\n",
       "  [205.0, 205.0, 215.0, 215.0],\n",
       "  [195.0, 195.0, 210.0, 210.0],\n",
       "  [185.0, 185.0, 202.5, 202.5],\n",
       "  [170.0, 170.0, 193.75, 193.75],\n",
       "  [225.0, 225.0, 235.0, 235.0],\n",
       "  [245.0, 245.0, 255.0, 255.0],\n",
       "  [265.0, 265.0, 275.0, 275.0],\n",
       "  [285.0, 285.0, 295.0, 295.0],\n",
       "  [270.0, 270.0, 290.0, 290.0],\n",
       "  [250.0, 250.0, 280.0, 280.0],\n",
       "  [230.0, 230.0, 265.0, 265.0],\n",
       "  [181.875, 181.875, 247.5, 247.5],\n",
       "  [315.0, 315.0, 325.0, 325.0],\n",
       "  [305.0, 305.0, 320.0, 320.0],\n",
       "  [345.0, 345.0, 355.0, 355.0],\n",
       "  [335.0, 335.0, 350.0, 350.0],\n",
       "  [375.0, 375.0, 385.0, 385.0],\n",
       "  [395.0, 395.0, 405.0, 405.0],\n",
       "  [380.0, 380.0, 400.0, 400.0],\n",
       "  [365.0, 365.0, 390.0, 390.0],\n",
       "  [342.5, 342.5, 377.5, 377.5],\n",
       "  [415.0, 415.0, 425.0, 425.0],\n",
       "  [465.0, 465.0, 475.0, 475.0],\n",
       "  [455.0, 455.0, 470.0, 470.0],\n",
       "  [445.0, 445.0, 462.5, 462.5],\n",
       "  [435.0, 435.0, 453.75, 453.75],\n",
       "  [420.0, 420.0, 444.375, 444.375],\n",
       "  [360.0, 360.0, 432.1875, 432.1875],\n",
       "  [312.5, 312.5, 396.09375, 396.09375],\n",
       "  [214.6875, 214.6875, 354.296875, 354.296875],\n",
       "  [495.0, 495.0, 505.0, 505.0],\n",
       "  [485.0, 485.0, 500.0, 500.0],\n",
       "  [525.0, 525.0, 535.0, 535.0],\n",
       "  [515.0, 515.0, 530.0, 530.0],\n",
       "  [492.5, 492.5, 522.5, 522.5],\n",
       "  [555.0, 555.0, 565.0, 565.0],\n",
       "  [545.0, 545.0, 560.0, 560.0],\n",
       "  [575.0, 575.0, 585.0, 585.0],\n",
       "  [615.0, 615.0, 625.0, 625.0],\n",
       "  [605.0, 605.0, 620.0, 620.0],\n",
       "  [595.0, 595.0, 612.5, 612.5],\n",
       "  [580.0, 580.0, 603.75, 603.75],\n",
       "  [552.5, 552.5, 591.875, 591.875],\n",
       "  [507.5, 507.5, 572.1875, 572.1875],\n",
       "  [284.4921875, 284.4921875, 539.84375, 539.84375],\n",
       "  [56.71875, 56.71875, 412.16796875, 412.16796875],\n",
       "  [645.0, 645.0, 655.0, 655.0],\n",
       "  [635.0, 635.0, 650.0, 650.0],\n",
       "  [675.0, 675.0, 685.0, 685.0],\n",
       "  [665.0, 665.0, 680.0, 680.0],\n",
       "  [642.5, 642.5, 672.5, 672.5],\n",
       "  [705.0, 705.0, 715.0, 715.0],\n",
       "  [695.0, 695.0, 710.0, 710.0],\n",
       "  [725.0, 725.0, 735.0, 735.0],\n",
       "  [755.0, 755.0, 765.0, 765.0],\n",
       "  [745.0, 745.0, 760.0, 760.0],\n",
       "  [730.0, 730.0, 752.5, 752.5],\n",
       "  [702.5, 702.5, 741.25, 741.25],\n",
       "  [657.5, 657.5, 721.875, 721.875],\n",
       "  [785.0, 785.0, 795.0, 795.0],\n",
       "  [775.0, 775.0, 790.0, 790.0],\n",
       "  [805.0, 805.0, 815.0, 815.0],\n",
       "  [782.5, 782.5, 810.0, 810.0],\n",
       "  [845.0, 845.0, 855.0, 855.0],\n",
       "  [835.0, 835.0, 850.0, 850.0],\n",
       "  [875.0, 875.0, 885.0, 885.0],\n",
       "  [865.0, 865.0, 880.0, 880.0],\n",
       "  [842.5, 842.5, 872.5, 872.5],\n",
       "  [825.0, 825.0, 857.5, 857.5],\n",
       "  [796.25, 796.25, 841.25, 841.25],\n",
       "  [689.6875, 689.6875, 818.75, 818.75],\n",
       "  [895.0, 895.0, 905.0, 905.0],\n",
       "  [935.0, 935.0, 945.0, 945.0],\n",
       "  [925.0, 925.0, 940.0, 940.0],\n",
       "  [915.0, 915.0, 932.5, 932.5],\n",
       "  [900.0, 900.0, 923.75, 923.75],\n",
       "  [965.0, 965.0, 975.0, 975.0],\n",
       "  [955.0, 955.0, 970.0, 970.0],\n",
       "  [985.0, 985.0, 995.0, 995.0],\n",
       "  [962.5, 962.5, 990.0, 990.0],\n",
       "  [1005.0, 1005.0, 1015.0, 1015.0],\n",
       "  [1025.0, 1025.0, 1035.0, 1035.0],\n",
       "  [1045.0, 1045.0, 1055.0, 1055.0],\n",
       "  [1030.0, 1030.0, 1050.0, 1050.0],\n",
       "  [1010.0, 1010.0, 1040.0, 1040.0],\n",
       "  [1075.0, 1075.0, 1085.0, 1085.0],\n",
       "  [1065.0, 1065.0, 1080.0, 1080.0],\n",
       "  [1105.0, 1105.0, 1115.0, 1115.0],\n",
       "  [1095.0, 1095.0, 1110.0, 1110.0],\n",
       "  [1072.5, 1072.5, 1102.5, 1102.5],\n",
       "  [1025.0, 1025.0, 1087.5, 1087.5],\n",
       "  [976.25, 976.25, 1056.25, 1056.25],\n",
       "  [911.875, 911.875, 1016.25, 1016.25],\n",
       "  [1135.0, 1135.0, 1145.0, 1145.0],\n",
       "  [1125.0, 1125.0, 1140.0, 1140.0],\n",
       "  [1155.0, 1155.0, 1165.0, 1165.0],\n",
       "  [1175.0, 1175.0, 1185.0, 1185.0],\n",
       "  [1160.0, 1160.0, 1180.0, 1180.0],\n",
       "  [1132.5, 1132.5, 1170.0, 1170.0],\n",
       "  [1205.0, 1205.0, 1215.0, 1215.0],\n",
       "  [1195.0, 1195.0, 1210.0, 1210.0],\n",
       "  [1235.0, 1235.0, 1245.0, 1245.0],\n",
       "  [1225.0, 1225.0, 1240.0, 1240.0],\n",
       "  [1265.0, 1265.0, 1275.0, 1275.0],\n",
       "  [1255.0, 1255.0, 1270.0, 1270.0],\n",
       "  [1232.5, 1232.5, 1262.5, 1262.5],\n",
       "  [1202.5, 1202.5, 1247.5, 1247.5],\n",
       "  [1151.25, 1151.25, 1225.0, 1225.0],\n",
       "  [1285.0, 1285.0, 1295.0, 1295.0],\n",
       "  [1335.0, 1335.0, 1345.0, 1345.0],\n",
       "  [1325.0, 1325.0, 1340.0, 1340.0],\n",
       "  [1315.0, 1315.0, 1332.5, 1332.5],\n",
       "  [1305.0, 1305.0, 1323.75, 1323.75],\n",
       "  [1290.0, 1290.0, 1314.375, 1314.375],\n",
       "  [1188.125, 1188.125, 1302.1875, 1302.1875],\n",
       "  [964.0625, 964.0625, 1245.15625, 1245.15625],\n",
       "  [754.21875, 754.21875, 1104.609375, 1104.609375],\n",
       "  [1365.0, 1365.0, 1375.0, 1375.0],\n",
       "  [1355.0, 1355.0, 1370.0, 1370.0],\n",
       "  [1385.0, 1385.0, 1395.0, 1395.0],\n",
       "  [1405.0, 1405.0, 1415.0, 1415.0],\n",
       "  [1390.0, 1390.0, 1410.0, 1410.0],\n",
       "  [1362.5, 1362.5, 1400.0, 1400.0],\n",
       "  [1425.0, 1425.0, 1435.0, 1435.0],\n",
       "  [1455.0, 1455.0, 1465.0, 1465.0],\n",
       "  [1445.0, 1445.0, 1460.0, 1460.0],\n",
       "  [1430.0, 1430.0, 1452.5, 1452.5],\n",
       "  [1485.0, 1485.0, 1495.0, 1495.0],\n",
       "  [1475.0, 1475.0, 1490.0, 1490.0],\n",
       "  [1441.25, 1441.25, 1482.5, 1482.5],\n",
       "  [1381.25, 1381.25, 1461.875, 1461.875],\n",
       "  [1505.0, 1505.0, 1515.0, 1515.0],\n",
       "  [1525.0, 1525.0, 1535.0, 1535.0],\n",
       "  [1510.0, 1510.0, 1530.0, 1530.0],\n",
       "  [1575.0, 1575.0, 1585.0, 1585.0],\n",
       "  [1565.0, 1565.0, 1580.0, 1580.0],\n",
       "  [1555.0, 1555.0, 1572.5, 1572.5],\n",
       "  [1545.0, 1545.0, 1563.75, 1563.75],\n",
       "  [1595.0, 1595.0, 1605.0, 1605.0],\n",
       "  [1625.0, 1625.0, 1635.0, 1635.0],\n",
       "  [1615.0, 1615.0, 1630.0, 1630.0],\n",
       "  [1600.0, 1600.0, 1622.5, 1622.5],\n",
       "  [1554.375, 1554.375, 1611.25, 1611.25],\n",
       "  [1520.0, 1520.0, 1582.8125, 1582.8125],\n",
       "  [1421.5625, 1421.5625, 1551.40625, 1551.40625],\n",
       "  [1675.0, 1675.0, 1685.0, 1685.0],\n",
       "  [1665.0, 1665.0, 1680.0, 1680.0],\n",
       "  [1655.0, 1655.0, 1672.5, 1672.5],\n",
       "  [1645.0, 1645.0, 1663.75, 1663.75],\n",
       "  [1695.0, 1695.0, 1705.0, 1705.0],\n",
       "  [1725.0, 1725.0, 1735.0, 1735.0],\n",
       "  [1715.0, 1715.0, 1730.0, 1730.0],\n",
       "  [1755.0, 1755.0, 1765.0, 1765.0],\n",
       "  [1745.0, 1745.0, 1760.0, 1760.0],\n",
       "  [1722.5, 1722.5, 1752.5, 1752.5],\n",
       "  [1700.0, 1700.0, 1737.5, 1737.5],\n",
       "  [1785.0, 1785.0, 1795.0, 1795.0],\n",
       "  [1775.0, 1775.0, 1790.0, 1790.0],\n",
       "  [1805.0, 1805.0, 1815.0, 1815.0],\n",
       "  [1782.5, 1782.5, 1810.0, 1810.0],\n",
       "  [1835.0, 1835.0, 1845.0, 1845.0],\n",
       "  [1825.0, 1825.0, 1840.0, 1840.0],\n",
       "  [1796.25, 1796.25, 1832.5, 1832.5],\n",
       "  [1718.75, 1718.75, 1814.375, 1814.375],\n",
       "  [1654.375, 1654.375, 1766.5625, 1766.5625],\n",
       "  [1855.0, 1855.0, 1865.0, 1865.0],\n",
       "  [1875.0, 1875.0, 1885.0, 1885.0],\n",
       "  [1895.0, 1895.0, 1905.0, 1905.0],\n",
       "  [1915.0, 1915.0, 1925.0, 1925.0],\n",
       "  [1900.0, 1900.0, 1920.0, 1920.0],\n",
       "  [1880.0, 1880.0, 1910.0, 1910.0],\n",
       "  [1860.0, 1860.0, 1895.0, 1895.0],\n",
       "  [1935.0, 1935.0, 1945.0, 1945.0],\n",
       "  [1965.0, 1965.0, 1975.0, 1975.0],\n",
       "  [1955.0, 1955.0, 1970.0, 1970.0],\n",
       "  [1940.0, 1940.0, 1962.5, 1962.5],\n",
       "  [1995.0, 1995.0, 2005.0, 2005.0],\n",
       "  [1985.0, 1985.0, 2000.0, 2000.0],\n",
       "  [2025.0, 2025.0, 2035.0, 2035.0],\n",
       "  [2015.0, 2015.0, 2030.0, 2030.0],\n",
       "  [1992.5, 1992.5, 2022.5, 2022.5],\n",
       "  [2055.0, 2055.0, 2065.0, 2065.0],\n",
       "  [2045.0, 2045.0, 2060.0, 2060.0],\n",
       "  [2085.0, 2085.0, 2095.0, 2095.0],\n",
       "  [2075.0, 2075.0, 2090.0, 2090.0],\n",
       "  [2052.5, 2052.5, 2082.5, 2082.5],\n",
       "  [2007.5, 2007.5, 2067.5, 2067.5],\n",
       "  [1951.25, 1951.25, 2037.5, 2037.5],\n",
       "  [1877.5, 1877.5, 1994.375, 1994.375],\n",
       "  [1710.46875, 1710.46875, 1935.9375, 1935.9375],\n",
       "  [1486.484375, 1486.484375, 1823.203125, 1823.203125],\n",
       "  [929.4140625, 929.4140625, 1654.84375, 1654.84375],\n",
       "  [234.443359375, 234.443359375, 1292.12890625, 1292.12890625]],\n",
       " 'dcoord': [[0.0, 0.39057042415114307, 0.39057042415114307, 0.0],\n",
       "  [0.0, 0.45301603040803, 0.45301603040803, 0.39057042415114307],\n",
       "  [0.0, 0.6011598408270257, 0.6011598408270257, 0.45301603040803],\n",
       "  [0.0, 0.9251416081909227, 0.9251416081909227, 0.6011598408270257],\n",
       "  [0.0, 0.2948931799731358, 0.2948931799731358, 0.0],\n",
       "  [0.0, 0.6618120576133485, 0.6618120576133485, 0.2948931799731358],\n",
       "  [0.0, 1.1626981746992808, 1.1626981746992808, 0.0],\n",
       "  [0.6618120576133485,\n",
       "   1.2697713882351005,\n",
       "   1.2697713882351005,\n",
       "   1.1626981746992808],\n",
       "  [0.0, 0.4188368544810867, 0.4188368544810867, 0.0],\n",
       "  [0.0, 0.1594163482701404, 0.1594163482701404, 0.0],\n",
       "  [0.0, 0.49761237321999907, 0.49761237321999907, 0.1594163482701404],\n",
       "  [0.0, 0.7285464825814644, 0.7285464825814644, 0.49761237321999907],\n",
       "  [0.4188368544810867,\n",
       "   1.335902202115647,\n",
       "   1.335902202115647,\n",
       "   0.7285464825814644],\n",
       "  [1.2697713882351005,\n",
       "   2.677301306585254,\n",
       "   2.677301306585254,\n",
       "   1.335902202115647],\n",
       "  [0.9251416081909227,\n",
       "   3.404251393219344,\n",
       "   3.404251393219344,\n",
       "   2.677301306585254],\n",
       "  [0.0, 0.4522448802371446, 0.4522448802371446, 0.0],\n",
       "  [0.0, 0.4391970793885378, 0.4391970793885378, 0.0],\n",
       "  [0.0, 0.5764797281164395, 0.5764797281164395, 0.4391970793885378],\n",
       "  [0.0, 0.7594072341345421, 0.7594072341345421, 0.5764797281164395],\n",
       "  [0.4522448802371446,\n",
       "   1.0579013418528316,\n",
       "   1.0579013418528316,\n",
       "   0.7594072341345421],\n",
       "  [0.0, 0.23535323034067285, 0.23535323034067285, 0.0],\n",
       "  [0.0, 0.5526061560998499, 0.5526061560998499, 0.0],\n",
       "  [0.0, 0.22566165951053785, 0.22566165951053785, 0.0],\n",
       "  [0.0, 0.5427099404621818, 0.5427099404621818, 0.0],\n",
       "  [0.22566165951053785,\n",
       "   0.9744738703905071,\n",
       "   0.9744738703905071,\n",
       "   0.5427099404621818],\n",
       "  [0.5526061560998499,\n",
       "   1.0357165189738953,\n",
       "   1.0357165189738953,\n",
       "   0.9744738703905071],\n",
       "  [0.23535323034067285,\n",
       "   1.2769669406548225,\n",
       "   1.2769669406548225,\n",
       "   1.0357165189738953],\n",
       "  [1.0579013418528316,\n",
       "   2.340930699197523,\n",
       "   2.340930699197523,\n",
       "   1.2769669406548225],\n",
       "  [0.0, 0.31679613702059095, 0.31679613702059095, 0.0],\n",
       "  [0.0, 0.9286267351009984, 0.9286267351009984, 0.31679613702059095],\n",
       "  [0.0, 0.29591617385848545, 0.29591617385848545, 0.0],\n",
       "  [0.0, 0.3734773135542396, 0.3734773135542396, 0.29591617385848545],\n",
       "  [0.0, 0.2431629768094545, 0.2431629768094545, 0.0],\n",
       "  [0.0, 0.36545528332785027, 0.36545528332785027, 0.0],\n",
       "  [0.2431629768094545,\n",
       "   0.5218212074822318,\n",
       "   0.5218212074822318,\n",
       "   0.36545528332785027],\n",
       "  [0.0, 0.6228264722450789, 0.6228264722450789, 0.5218212074822318],\n",
       "  [0.3734773135542396,\n",
       "   0.8556367225955985,\n",
       "   0.8556367225955985,\n",
       "   0.6228264722450789],\n",
       "  [0.0, 0.41290476551002286, 0.41290476551002286, 0.0],\n",
       "  [0.0, 0.25999061862119155, 0.25999061862119155, 0.0],\n",
       "  [0.0, 0.5146039446219121, 0.5146039446219121, 0.25999061862119155],\n",
       "  [0.0, 0.7329329945403366, 0.7329329945403366, 0.5146039446219121],\n",
       "  [0.0, 0.8768032298280634, 0.8768032298280634, 0.7329329945403366],\n",
       "  [0.41290476551002286,\n",
       "   1.4832508253625236,\n",
       "   1.4832508253625236,\n",
       "   0.8768032298280634],\n",
       "  [0.8556367225955985,\n",
       "   2.312808933868609,\n",
       "   2.312808933868609,\n",
       "   1.4832508253625236],\n",
       "  [0.9286267351009984,\n",
       "   3.8791526039299025,\n",
       "   3.8791526039299025,\n",
       "   2.312808933868609],\n",
       "  [2.340930699197523,\n",
       "   4.573802310792185,\n",
       "   4.573802310792185,\n",
       "   3.8791526039299025],\n",
       "  [0.0, 0.4454948971104548, 0.4454948971104548, 0.0],\n",
       "  [0.0, 0.6701026967703018, 0.6701026967703018, 0.4454948971104548],\n",
       "  [0.0, 0.7460914807428661, 0.7460914807428661, 0.0],\n",
       "  [0.0, 1.275187713655724, 1.275187713655724, 0.7460914807428661],\n",
       "  [0.6701026967703018,\n",
       "   1.7488778757886998,\n",
       "   1.7488778757886998,\n",
       "   1.275187713655724],\n",
       "  [0.0, 0.7151579891035654, 0.7151579891035654, 0.0],\n",
       "  [0.0, 1.5292635108980939, 1.5292635108980939, 0.7151579891035654],\n",
       "  [0.0, 0.7355825046516051, 0.7355825046516051, 0.0],\n",
       "  [0.0, 0.38774022925787965, 0.38774022925787965, 0.0],\n",
       "  [0.0, 0.7775663393825604, 0.7775663393825604, 0.38774022925787965],\n",
       "  [0.0, 0.901608356445627, 0.901608356445627, 0.7775663393825604],\n",
       "  [0.7355825046516051,\n",
       "   1.8459142691337513,\n",
       "   1.8459142691337513,\n",
       "   0.901608356445627],\n",
       "  [1.5292635108980939,\n",
       "   3.030487354546339,\n",
       "   3.030487354546339,\n",
       "   1.8459142691337513],\n",
       "  [1.7488778757886998,\n",
       "   5.540934894407515,\n",
       "   5.540934894407515,\n",
       "   3.030487354546339],\n",
       "  [4.573802310792185,\n",
       "   11.287329963794935,\n",
       "   11.287329963794935,\n",
       "   5.540934894407515],\n",
       "  [3.404251393219344,\n",
       "   12.551605629352114,\n",
       "   12.551605629352114,\n",
       "   11.287329963794935],\n",
       "  [0.0, 0.36025229389556296, 0.36025229389556296, 0.0],\n",
       "  [0.0, 0.48486011215728275, 0.48486011215728275, 0.36025229389556296],\n",
       "  [0.0, 0.3437499985116496, 0.3437499985116496, 0.0],\n",
       "  [0.0, 0.5187075386954686, 0.5187075386954686, 0.3437499985116496],\n",
       "  [0.48486011215728275,\n",
       "   1.022907171549321,\n",
       "   1.022907171549321,\n",
       "   0.5187075386954686],\n",
       "  [0.0, 0.2850010461328107, 0.2850010461328107, 0.0],\n",
       "  [0.0, 0.4640013483229355, 0.4640013483229355, 0.2850010461328107],\n",
       "  [0.0, 0.3009024700941473, 0.3009024700941473, 0.0],\n",
       "  [0.0, 0.14997119566932376, 0.14997119566932376, 0.0],\n",
       "  [0.0, 0.4889042091435141, 0.4889042091435141, 0.14997119566932376],\n",
       "  [0.3009024700941473,\n",
       "   0.5536346296465893,\n",
       "   0.5536346296465893,\n",
       "   0.4889042091435141],\n",
       "  [0.4640013483229355,\n",
       "   1.552750297207663,\n",
       "   1.552750297207663,\n",
       "   0.5536346296465893],\n",
       "  [1.022907171549321,\n",
       "   2.1366322543021656,\n",
       "   2.1366322543021656,\n",
       "   1.552750297207663],\n",
       "  [0.0, 0.14175906994574652, 0.14175906994574652, 0.0],\n",
       "  [0.0, 0.4052144963498692, 0.4052144963498692, 0.14175906994574652],\n",
       "  [0.0, 0.4932654831295445, 0.4932654831295445, 0.0],\n",
       "  [0.4052144963498692,\n",
       "   0.8996836333424552,\n",
       "   0.8996836333424552,\n",
       "   0.4932654831295445],\n",
       "  [0.0, 0.3658169331468035, 0.3658169331468035, 0.0],\n",
       "  [0.0, 0.5235902147580141, 0.5235902147580141, 0.3658169331468035],\n",
       "  [0.0, 0.402747083847617, 0.402747083847617, 0.0],\n",
       "  [0.0, 0.7323065277024494, 0.7323065277024494, 0.402747083847617],\n",
       "  [0.5235902147580141,\n",
       "   0.8955949909099921,\n",
       "   0.8955949909099921,\n",
       "   0.7323065277024494],\n",
       "  [0.0, 1.137768408932138, 1.137768408932138, 0.8955949909099921],\n",
       "  [0.8996836333424552,\n",
       "   2.206496688791817,\n",
       "   2.206496688791817,\n",
       "   1.137768408932138],\n",
       "  [2.1366322543021656,\n",
       "   4.410728689309396,\n",
       "   4.410728689309396,\n",
       "   2.206496688791817],\n",
       "  [0.0, 1.2425602681371546, 1.2425602681371546, 0.0],\n",
       "  [0.0, 0.5462362187731, 0.5462362187731, 0.0],\n",
       "  [0.0, 0.9359717686538676, 0.9359717686538676, 0.5462362187731],\n",
       "  [0.0, 1.8238210025103978, 1.8238210025103978, 0.9359717686538676],\n",
       "  [1.2425602681371546,\n",
       "   2.1345460906937688,\n",
       "   2.1345460906937688,\n",
       "   1.8238210025103978],\n",
       "  [0.0, 0.2606557672870266, 0.2606557672870266, 0.0],\n",
       "  [0.0, 0.524967591521265, 0.524967591521265, 0.2606557672870266],\n",
       "  [0.0, 0.5747774863578429, 0.5747774863578429, 0.0],\n",
       "  [0.524967591521265,\n",
       "   1.2392493908201418,\n",
       "   1.2392493908201418,\n",
       "   0.5747774863578429],\n",
       "  [0.0, 0.47463645392355336, 0.47463645392355336, 0.0],\n",
       "  [0.0, 0.29037647179666887, 0.29037647179666887, 0.0],\n",
       "  [0.0, 0.3194316172259498, 0.3194316172259498, 0.0],\n",
       "  [0.29037647179666887,\n",
       "   0.6118312724693313,\n",
       "   0.6118312724693313,\n",
       "   0.3194316172259498],\n",
       "  [0.47463645392355336,\n",
       "   0.7484538580666233,\n",
       "   0.7484538580666233,\n",
       "   0.6118312724693313],\n",
       "  [0.0, 0.22529500714814205, 0.22529500714814205, 0.0],\n",
       "  [0.0, 0.28781534713529433, 0.28781534713529433, 0.22529500714814205],\n",
       "  [0.0, 0.4963269166519078, 0.4963269166519078, 0.0],\n",
       "  [0.0, 0.6861907085562222, 0.6861907085562222, 0.4963269166519078],\n",
       "  [0.28781534713529433,\n",
       "   1.057702751600329,\n",
       "   1.057702751600329,\n",
       "   0.6861907085562222],\n",
       "  [0.7484538580666233,\n",
       "   1.8412812702908745,\n",
       "   1.8412812702908745,\n",
       "   1.057702751600329],\n",
       "  [1.2392493908201418,\n",
       "   2.5909290446225453,\n",
       "   2.5909290446225453,\n",
       "   1.8412812702908745],\n",
       "  [2.1345460906937688,\n",
       "   4.922890136926897,\n",
       "   4.922890136926897,\n",
       "   2.5909290446225453],\n",
       "  [0.0, 0.290704695150542, 0.290704695150542, 0.0],\n",
       "  [0.0, 0.5515425951963815, 0.5515425951963815, 0.290704695150542],\n",
       "  [0.0, 0.2570353531311089, 0.2570353531311089, 0.0],\n",
       "  [0.0, 0.4647428262418567, 0.4647428262418567, 0.0],\n",
       "  [0.2570353531311089,\n",
       "   0.7910395319306596,\n",
       "   0.7910395319306596,\n",
       "   0.4647428262418567],\n",
       "  [0.5515425951963815,\n",
       "   1.2935805262141287,\n",
       "   1.2935805262141287,\n",
       "   0.7910395319306596],\n",
       "  [0.0, 0.38384973711457115, 0.38384973711457115, 0.0],\n",
       "  [0.0, 0.5712985603603448, 0.5712985603603448, 0.38384973711457115],\n",
       "  [0.0, 0.3128071167250996, 0.3128071167250996, 0.0],\n",
       "  [0.0, 0.46377459236205365, 0.46377459236205365, 0.3128071167250996],\n",
       "  [0.0, 0.3651454924204341, 0.3651454924204341, 0.0],\n",
       "  [0.0, 0.754852794890878, 0.754852794890878, 0.3651454924204341],\n",
       "  [0.46377459236205365,\n",
       "   0.8255225774594351,\n",
       "   0.8255225774594351,\n",
       "   0.754852794890878],\n",
       "  [0.5712985603603448,\n",
       "   1.4653167629312827,\n",
       "   1.4653167629312827,\n",
       "   0.8255225774594351],\n",
       "  [1.2935805262141287,\n",
       "   2.4802189614599346,\n",
       "   2.4802189614599346,\n",
       "   1.4653167629312827],\n",
       "  [0.0, 0.6125836170339781, 0.6125836170339781, 0.0],\n",
       "  [0.0, 0.6588624205282496, 0.6588624205282496, 0.0],\n",
       "  [0.0, 0.6875216462180633, 0.6875216462180633, 0.6588624205282496],\n",
       "  [0.0, 1.1747663980604957, 1.1747663980604957, 0.6875216462180633],\n",
       "  [0.0, 1.378008305337827, 1.378008305337827, 1.1747663980604957],\n",
       "  [0.6125836170339781,\n",
       "   3.940944539162211,\n",
       "   3.940944539162211,\n",
       "   1.378008305337827],\n",
       "  [2.4802189614599346, 6.74354458389128, 6.74354458389128, 3.940944539162211],\n",
       "  [4.922890136926897, 8.294770635617938, 8.294770635617938, 6.74354458389128],\n",
       "  [4.410728689309396,\n",
       "   10.250495003988746,\n",
       "   10.250495003988746,\n",
       "   8.294770635617938],\n",
       "  [0.0, 0.3436763413628675, 0.3436763413628675, 0.0],\n",
       "  [0.0, 0.7228308412361838, 0.7228308412361838, 0.3436763413628675],\n",
       "  [0.0, 0.23736419106830486, 0.23736419106830486, 0.0],\n",
       "  [0.0, 0.32202022966606997, 0.32202022966606997, 0.0],\n",
       "  [0.23736419106830486,\n",
       "   0.8711695504150803,\n",
       "   0.8711695504150803,\n",
       "   0.32202022966606997],\n",
       "  [0.7228308412361838,\n",
       "   1.261947096850774,\n",
       "   1.261947096850774,\n",
       "   0.8711695504150803],\n",
       "  [0.0, 0.35017746991291016, 0.35017746991291016, 0.0],\n",
       "  [0.0, 0.21797085156135113, 0.21797085156135113, 0.0],\n",
       "  [0.0, 0.3626927458569727, 0.3626927458569727, 0.21797085156135113],\n",
       "  [0.35017746991291016,\n",
       "   0.6759973604993377,\n",
       "   0.6759973604993377,\n",
       "   0.3626927458569727],\n",
       "  [0.0, 0.22280520287773617, 0.22280520287773617, 0.0],\n",
       "  [0.0, 0.7774519569385294, 0.7774519569385294, 0.22280520287773617],\n",
       "  [0.6759973604993377,\n",
       "   1.6063535849305979,\n",
       "   1.6063535849305979,\n",
       "   0.7774519569385294],\n",
       "  [1.261947096850774,\n",
       "   2.179524107381207,\n",
       "   2.179524107381207,\n",
       "   1.6063535849305979],\n",
       "  [0.0, 0.5731858526295395, 0.5731858526295395, 0.0],\n",
       "  [0.0, 0.8465761348422863, 0.8465761348422863, 0.0],\n",
       "  [0.5731858526295395, 1.2273097589059, 1.2273097589059, 0.8465761348422863],\n",
       "  [0.0, 0.38041977367873364, 0.38041977367873364, 0.0],\n",
       "  [0.0, 0.5467173403863503, 0.5467173403863503, 0.38041977367873364],\n",
       "  [0.0, 0.6208574632303296, 0.6208574632303296, 0.5467173403863503],\n",
       "  [0.0, 0.8082690687823849, 0.8082690687823849, 0.6208574632303296],\n",
       "  [0.0, 0.6809947479758266, 0.6809947479758266, 0.0],\n",
       "  [0.0, 0.5698377316456525, 0.5698377316456525, 0.0],\n",
       "  [0.0, 0.7696595743226432, 0.7696595743226432, 0.5698377316456525],\n",
       "  [0.6809947479758266,\n",
       "   1.6486638572252648,\n",
       "   1.6486638572252648,\n",
       "   0.7696595743226432],\n",
       "  [0.8082690687823849,\n",
       "   2.8928018710770806,\n",
       "   2.8928018710770806,\n",
       "   1.6486638572252648],\n",
       "  [1.2273097589059, 3.260280022228631, 3.260280022228631, 2.8928018710770806],\n",
       "  [2.179524107381207, 7.135994534673154, 7.135994534673154, 3.260280022228631],\n",
       "  [0.0, 0.45102190952435717, 0.45102190952435717, 0.0],\n",
       "  [0.0, 0.5592861326796492, 0.5592861326796492, 0.45102190952435717],\n",
       "  [0.0, 0.7114573029976542, 0.7114573029976542, 0.5592861326796492],\n",
       "  [0.0, 1.468170390327561, 1.468170390327561, 0.7114573029976542],\n",
       "  [0.0, 0.8095321250706311, 0.8095321250706311, 0.0],\n",
       "  [0.0, 0.47417048838089976, 0.47417048838089976, 0.0],\n",
       "  [0.0, 0.5141373455008142, 0.5141373455008142, 0.47417048838089976],\n",
       "  [0.0, 0.45072282481912695, 0.45072282481912695, 0.0],\n",
       "  [0.0, 0.7268463299417073, 0.7268463299417073, 0.45072282481912695],\n",
       "  [0.5141373455008142,\n",
       "   1.2339354949914167,\n",
       "   1.2339354949914167,\n",
       "   0.7268463299417073],\n",
       "  [0.8095321250706311,\n",
       "   1.452193990621487,\n",
       "   1.452193990621487,\n",
       "   1.2339354949914167],\n",
       "  [0.0, 0.25339563187029257, 0.25339563187029257, 0.0],\n",
       "  [0.0, 0.4250622752608108, 0.4250622752608108, 0.25339563187029257],\n",
       "  [0.0, 0.44605633291272856, 0.44605633291272856, 0.0],\n",
       "  [0.4250622752608108,\n",
       "   0.8291606142225514,\n",
       "   0.8291606142225514,\n",
       "   0.44605633291272856],\n",
       "  [0.0, 0.6006351937450709, 0.6006351937450709, 0.0],\n",
       "  [0.0, 0.8598172273321978, 0.8598172273321978, 0.6006351937450709],\n",
       "  [0.8291606142225514,\n",
       "   1.979094900925111,\n",
       "   1.979094900925111,\n",
       "   0.8598172273321978],\n",
       "  [1.452193990621487,\n",
       "   3.1025695760077876,\n",
       "   3.1025695760077876,\n",
       "   1.979094900925111],\n",
       "  [1.468170390327561,\n",
       "   4.775496221038051,\n",
       "   4.775496221038051,\n",
       "   3.1025695760077876],\n",
       "  [0.0, 0.4207308014901523, 0.4207308014901523, 0.0],\n",
       "  [0.0, 0.21694391440585892, 0.21694391440585892, 0.0],\n",
       "  [0.0, 0.5378904758071398, 0.5378904758071398, 0.0],\n",
       "  [0.0, 0.6927338625001932, 0.6927338625001932, 0.0],\n",
       "  [0.5378904758071398,\n",
       "   1.101789857113428,\n",
       "   1.101789857113428,\n",
       "   0.6927338625001932],\n",
       "  [0.21694391440585892,\n",
       "   1.609697223927841,\n",
       "   1.609697223927841,\n",
       "   1.101789857113428],\n",
       "  [0.4207308014901523,\n",
       "   2.097897729321641,\n",
       "   2.097897729321641,\n",
       "   1.609697223927841],\n",
       "  [0.0, 0.517877660828065, 0.517877660828065, 0.0],\n",
       "  [0.0, 0.5769608198190114, 0.5769608198190114, 0.0],\n",
       "  [0.0, 0.6543052826007606, 0.6543052826007606, 0.5769608198190114],\n",
       "  [0.517877660828065,\n",
       "   1.2266724250352865,\n",
       "   1.2266724250352865,\n",
       "   0.6543052826007606],\n",
       "  [0.0, 0.23319665952822377, 0.23319665952822377, 0.0],\n",
       "  [0.0, 0.3199955152963561, 0.3199955152963561, 0.23319665952822377],\n",
       "  [0.0, 0.3441950757185485, 0.3441950757185485, 0.0],\n",
       "  [0.0, 0.6383570410405043, 0.6383570410405043, 0.3441950757185485],\n",
       "  [0.3199955152963561,\n",
       "   0.6596434367890619,\n",
       "   0.6596434367890619,\n",
       "   0.6383570410405043],\n",
       "  [0.0, 0.24378549355203946, 0.24378549355203946, 0.0],\n",
       "  [0.0, 0.5504604005673543, 0.5504604005673543, 0.24378549355203946],\n",
       "  [0.0, 0.37215707818840293, 0.37215707818840293, 0.0],\n",
       "  [0.0, 1.1169316706013073, 1.1169316706013073, 0.37215707818840293],\n",
       "  [0.5504604005673543,\n",
       "   1.4318718033812765,\n",
       "   1.4318718033812765,\n",
       "   1.1169316706013073],\n",
       "  [0.6596434367890619,\n",
       "   2.3089788522803403,\n",
       "   2.3089788522803403,\n",
       "   1.4318718033812765],\n",
       "  [1.2266724250352865,\n",
       "   3.194769940831156,\n",
       "   3.194769940831156,\n",
       "   2.3089788522803403],\n",
       "  [2.097897729321641, 5.862825964902136, 5.862825964902136, 3.194769940831156],\n",
       "  [4.775496221038051, 9.847385207661748, 9.847385207661748, 5.862825964902136],\n",
       "  [7.135994534673154,\n",
       "   14.817371330457867,\n",
       "   14.817371330457867,\n",
       "   9.847385207661748],\n",
       "  [10.250495003988746, 31.290660562799, 31.290660562799, 14.817371330457867],\n",
       "  [12.551605629352114,\n",
       "   57.882583934797395,\n",
       "   57.882583934797395,\n",
       "   31.290660562799]],\n",
       " 'ivl': ['193',\n",
       "  '135',\n",
       "  '115',\n",
       "  '99',\n",
       "  '159',\n",
       "  '163',\n",
       "  '185',\n",
       "  '206',\n",
       "  '138',\n",
       "  '195',\n",
       "  '42',\n",
       "  '78',\n",
       "  '55',\n",
       "  '204',\n",
       "  '88',\n",
       "  '97',\n",
       "  '10',\n",
       "  '162',\n",
       "  '13',\n",
       "  '146',\n",
       "  '40',\n",
       "  '47',\n",
       "  '4',\n",
       "  '22',\n",
       "  '8',\n",
       "  '164',\n",
       "  '95',\n",
       "  '126',\n",
       "  '49',\n",
       "  '173',\n",
       "  '96',\n",
       "  '72',\n",
       "  '174',\n",
       "  '65',\n",
       "  '75',\n",
       "  '175',\n",
       "  '103',\n",
       "  '54',\n",
       "  '196',\n",
       "  '2',\n",
       "  '68',\n",
       "  '0',\n",
       "  '43',\n",
       "  '133',\n",
       "  '39',\n",
       "  '53',\n",
       "  '101',\n",
       "  '198',\n",
       "  '160',\n",
       "  '66',\n",
       "  '119',\n",
       "  '91',\n",
       "  '73',\n",
       "  '112',\n",
       "  '136',\n",
       "  '51',\n",
       "  '83',\n",
       "  '105',\n",
       "  '106',\n",
       "  '52',\n",
       "  '59',\n",
       "  '48',\n",
       "  '109',\n",
       "  '121',\n",
       "  '28',\n",
       "  '130',\n",
       "  '6',\n",
       "  '34',\n",
       "  '189',\n",
       "  '143',\n",
       "  '93',\n",
       "  '142',\n",
       "  '45',\n",
       "  '137',\n",
       "  '84',\n",
       "  '9',\n",
       "  '62',\n",
       "  '123',\n",
       "  '19',\n",
       "  '23',\n",
       "  '50',\n",
       "  '156',\n",
       "  '132',\n",
       "  '69',\n",
       "  '31',\n",
       "  '94',\n",
       "  '12',\n",
       "  '20',\n",
       "  '151',\n",
       "  '107',\n",
       "  '117',\n",
       "  '90',\n",
       "  '21',\n",
       "  '74',\n",
       "  '113',\n",
       "  '161',\n",
       "  '32',\n",
       "  '71',\n",
       "  '18',\n",
       "  '100',\n",
       "  '38',\n",
       "  '77',\n",
       "  '134',\n",
       "  '145',\n",
       "  '149',\n",
       "  '192',\n",
       "  '37',\n",
       "  '56',\n",
       "  '197',\n",
       "  '15',\n",
       "  '108',\n",
       "  '122',\n",
       "  '58',\n",
       "  '3',\n",
       "  '44',\n",
       "  '98',\n",
       "  '147',\n",
       "  '17',\n",
       "  '179',\n",
       "  '118',\n",
       "  '35',\n",
       "  '114',\n",
       "  '171',\n",
       "  '127',\n",
       "  '157',\n",
       "  '61',\n",
       "  '57',\n",
       "  '165',\n",
       "  '5',\n",
       "  '89',\n",
       "  '199',\n",
       "  '29',\n",
       "  '27',\n",
       "  '36',\n",
       "  '203',\n",
       "  '41',\n",
       "  '70',\n",
       "  '116',\n",
       "  '82',\n",
       "  '183',\n",
       "  '148',\n",
       "  '207',\n",
       "  '79',\n",
       "  '172',\n",
       "  '124',\n",
       "  '67',\n",
       "  '128',\n",
       "  '181',\n",
       "  '7',\n",
       "  '30',\n",
       "  '154',\n",
       "  '190',\n",
       "  '14',\n",
       "  '169',\n",
       "  '144',\n",
       "  '168',\n",
       "  '188',\n",
       "  '81',\n",
       "  '182',\n",
       "  '26',\n",
       "  '46',\n",
       "  '186',\n",
       "  '120',\n",
       "  '177',\n",
       "  '140',\n",
       "  '63',\n",
       "  '25',\n",
       "  '87',\n",
       "  '166',\n",
       "  '139',\n",
       "  '205',\n",
       "  '85',\n",
       "  '11',\n",
       "  '191',\n",
       "  '176',\n",
       "  '111',\n",
       "  '150',\n",
       "  '202',\n",
       "  '24',\n",
       "  '152',\n",
       "  '60',\n",
       "  '129',\n",
       "  '1',\n",
       "  '102',\n",
       "  '187',\n",
       "  '184',\n",
       "  '201',\n",
       "  '110',\n",
       "  '209',\n",
       "  '86',\n",
       "  '178',\n",
       "  '153',\n",
       "  '208',\n",
       "  '104',\n",
       "  '194',\n",
       "  '16',\n",
       "  '33',\n",
       "  '170',\n",
       "  '76',\n",
       "  '131',\n",
       "  '167',\n",
       "  '125',\n",
       "  '92',\n",
       "  '158',\n",
       "  '80',\n",
       "  '64',\n",
       "  '180',\n",
       "  '155',\n",
       "  '141',\n",
       "  '200'],\n",
       " 'leaves': [193,\n",
       "  135,\n",
       "  115,\n",
       "  99,\n",
       "  159,\n",
       "  163,\n",
       "  185,\n",
       "  206,\n",
       "  138,\n",
       "  195,\n",
       "  42,\n",
       "  78,\n",
       "  55,\n",
       "  204,\n",
       "  88,\n",
       "  97,\n",
       "  10,\n",
       "  162,\n",
       "  13,\n",
       "  146,\n",
       "  40,\n",
       "  47,\n",
       "  4,\n",
       "  22,\n",
       "  8,\n",
       "  164,\n",
       "  95,\n",
       "  126,\n",
       "  49,\n",
       "  173,\n",
       "  96,\n",
       "  72,\n",
       "  174,\n",
       "  65,\n",
       "  75,\n",
       "  175,\n",
       "  103,\n",
       "  54,\n",
       "  196,\n",
       "  2,\n",
       "  68,\n",
       "  0,\n",
       "  43,\n",
       "  133,\n",
       "  39,\n",
       "  53,\n",
       "  101,\n",
       "  198,\n",
       "  160,\n",
       "  66,\n",
       "  119,\n",
       "  91,\n",
       "  73,\n",
       "  112,\n",
       "  136,\n",
       "  51,\n",
       "  83,\n",
       "  105,\n",
       "  106,\n",
       "  52,\n",
       "  59,\n",
       "  48,\n",
       "  109,\n",
       "  121,\n",
       "  28,\n",
       "  130,\n",
       "  6,\n",
       "  34,\n",
       "  189,\n",
       "  143,\n",
       "  93,\n",
       "  142,\n",
       "  45,\n",
       "  137,\n",
       "  84,\n",
       "  9,\n",
       "  62,\n",
       "  123,\n",
       "  19,\n",
       "  23,\n",
       "  50,\n",
       "  156,\n",
       "  132,\n",
       "  69,\n",
       "  31,\n",
       "  94,\n",
       "  12,\n",
       "  20,\n",
       "  151,\n",
       "  107,\n",
       "  117,\n",
       "  90,\n",
       "  21,\n",
       "  74,\n",
       "  113,\n",
       "  161,\n",
       "  32,\n",
       "  71,\n",
       "  18,\n",
       "  100,\n",
       "  38,\n",
       "  77,\n",
       "  134,\n",
       "  145,\n",
       "  149,\n",
       "  192,\n",
       "  37,\n",
       "  56,\n",
       "  197,\n",
       "  15,\n",
       "  108,\n",
       "  122,\n",
       "  58,\n",
       "  3,\n",
       "  44,\n",
       "  98,\n",
       "  147,\n",
       "  17,\n",
       "  179,\n",
       "  118,\n",
       "  35,\n",
       "  114,\n",
       "  171,\n",
       "  127,\n",
       "  157,\n",
       "  61,\n",
       "  57,\n",
       "  165,\n",
       "  5,\n",
       "  89,\n",
       "  199,\n",
       "  29,\n",
       "  27,\n",
       "  36,\n",
       "  203,\n",
       "  41,\n",
       "  70,\n",
       "  116,\n",
       "  82,\n",
       "  183,\n",
       "  148,\n",
       "  207,\n",
       "  79,\n",
       "  172,\n",
       "  124,\n",
       "  67,\n",
       "  128,\n",
       "  181,\n",
       "  7,\n",
       "  30,\n",
       "  154,\n",
       "  190,\n",
       "  14,\n",
       "  169,\n",
       "  144,\n",
       "  168,\n",
       "  188,\n",
       "  81,\n",
       "  182,\n",
       "  26,\n",
       "  46,\n",
       "  186,\n",
       "  120,\n",
       "  177,\n",
       "  140,\n",
       "  63,\n",
       "  25,\n",
       "  87,\n",
       "  166,\n",
       "  139,\n",
       "  205,\n",
       "  85,\n",
       "  11,\n",
       "  191,\n",
       "  176,\n",
       "  111,\n",
       "  150,\n",
       "  202,\n",
       "  24,\n",
       "  152,\n",
       "  60,\n",
       "  129,\n",
       "  1,\n",
       "  102,\n",
       "  187,\n",
       "  184,\n",
       "  201,\n",
       "  110,\n",
       "  209,\n",
       "  86,\n",
       "  178,\n",
       "  153,\n",
       "  208,\n",
       "  104,\n",
       "  194,\n",
       "  16,\n",
       "  33,\n",
       "  170,\n",
       "  76,\n",
       "  131,\n",
       "  167,\n",
       "  125,\n",
       "  92,\n",
       "  158,\n",
       "  80,\n",
       "  64,\n",
       "  180,\n",
       "  155,\n",
       "  141,\n",
       "  200],\n",
       " 'color_list': ['C1',\n",
       "  'C1',\n",
       "  'C1',\n",
       "  'C1',\n",
       "  'C1',\n",
       "  'C1',\n",
       "  'C1',\n",
       "  'C1',\n",
       "  'C1',\n",
       "  'C1',\n",
       "  'C1',\n",
       "  'C1',\n",
       "  'C1',\n",
       "  'C1',\n",
       "  'C1',\n",
       "  'C1',\n",
       "  'C1',\n",
       "  'C1',\n",
       "  'C1',\n",
       "  'C1',\n",
       "  'C1',\n",
       "  'C1',\n",
       "  'C1',\n",
       "  'C1',\n",
       "  'C1',\n",
       "  'C1',\n",
       "  'C1',\n",
       "  'C1',\n",
       "  'C1',\n",
       "  'C1',\n",
       "  'C1',\n",
       "  'C1',\n",
       "  'C1',\n",
       "  'C1',\n",
       "  'C1',\n",
       "  'C1',\n",
       "  'C1',\n",
       "  'C1',\n",
       "  'C1',\n",
       "  'C1',\n",
       "  'C1',\n",
       "  'C1',\n",
       "  'C1',\n",
       "  'C1',\n",
       "  'C1',\n",
       "  'C1',\n",
       "  'C1',\n",
       "  'C1',\n",
       "  'C1',\n",
       "  'C1',\n",
       "  'C1',\n",
       "  'C1',\n",
       "  'C1',\n",
       "  'C1',\n",
       "  'C1',\n",
       "  'C1',\n",
       "  'C1',\n",
       "  'C1',\n",
       "  'C1',\n",
       "  'C1',\n",
       "  'C1',\n",
       "  'C1',\n",
       "  'C2',\n",
       "  'C2',\n",
       "  'C2',\n",
       "  'C2',\n",
       "  'C2',\n",
       "  'C2',\n",
       "  'C2',\n",
       "  'C2',\n",
       "  'C2',\n",
       "  'C2',\n",
       "  'C2',\n",
       "  'C2',\n",
       "  'C2',\n",
       "  'C2',\n",
       "  'C2',\n",
       "  'C2',\n",
       "  'C2',\n",
       "  'C2',\n",
       "  'C2',\n",
       "  'C2',\n",
       "  'C2',\n",
       "  'C2',\n",
       "  'C2',\n",
       "  'C2',\n",
       "  'C2',\n",
       "  'C2',\n",
       "  'C2',\n",
       "  'C2',\n",
       "  'C2',\n",
       "  'C2',\n",
       "  'C2',\n",
       "  'C2',\n",
       "  'C2',\n",
       "  'C2',\n",
       "  'C2',\n",
       "  'C2',\n",
       "  'C2',\n",
       "  'C2',\n",
       "  'C2',\n",
       "  'C2',\n",
       "  'C2',\n",
       "  'C2',\n",
       "  'C2',\n",
       "  'C2',\n",
       "  'C2',\n",
       "  'C2',\n",
       "  'C2',\n",
       "  'C2',\n",
       "  'C2',\n",
       "  'C2',\n",
       "  'C2',\n",
       "  'C2',\n",
       "  'C2',\n",
       "  'C2',\n",
       "  'C2',\n",
       "  'C2',\n",
       "  'C2',\n",
       "  'C2',\n",
       "  'C2',\n",
       "  'C2',\n",
       "  'C2',\n",
       "  'C2',\n",
       "  'C2',\n",
       "  'C2',\n",
       "  'C2',\n",
       "  'C2',\n",
       "  'C2',\n",
       "  'C2',\n",
       "  'C2',\n",
       "  'C2',\n",
       "  'C2',\n",
       "  'C2',\n",
       "  'C2',\n",
       "  'C2',\n",
       "  'C2',\n",
       "  'C2',\n",
       "  'C2',\n",
       "  'C2',\n",
       "  'C2',\n",
       "  'C2',\n",
       "  'C2',\n",
       "  'C2',\n",
       "  'C2',\n",
       "  'C2',\n",
       "  'C2',\n",
       "  'C2',\n",
       "  'C2',\n",
       "  'C2',\n",
       "  'C2',\n",
       "  'C2',\n",
       "  'C2',\n",
       "  'C2',\n",
       "  'C2',\n",
       "  'C2',\n",
       "  'C2',\n",
       "  'C2',\n",
       "  'C2',\n",
       "  'C2',\n",
       "  'C2',\n",
       "  'C2',\n",
       "  'C2',\n",
       "  'C2',\n",
       "  'C2',\n",
       "  'C2',\n",
       "  'C2',\n",
       "  'C2',\n",
       "  'C2',\n",
       "  'C2',\n",
       "  'C2',\n",
       "  'C2',\n",
       "  'C2',\n",
       "  'C2',\n",
       "  'C2',\n",
       "  'C2',\n",
       "  'C2',\n",
       "  'C2',\n",
       "  'C2',\n",
       "  'C2',\n",
       "  'C2',\n",
       "  'C2',\n",
       "  'C2',\n",
       "  'C2',\n",
       "  'C2',\n",
       "  'C2',\n",
       "  'C2',\n",
       "  'C2',\n",
       "  'C2',\n",
       "  'C2',\n",
       "  'C2',\n",
       "  'C2',\n",
       "  'C2',\n",
       "  'C2',\n",
       "  'C2',\n",
       "  'C2',\n",
       "  'C2',\n",
       "  'C2',\n",
       "  'C2',\n",
       "  'C2',\n",
       "  'C2',\n",
       "  'C2',\n",
       "  'C2',\n",
       "  'C2',\n",
       "  'C2',\n",
       "  'C2',\n",
       "  'C2',\n",
       "  'C2',\n",
       "  'C0']}"
      ]
     },
     "execution_count": 127,
     "metadata": {},
     "output_type": "execute_result"
    },
    {
     "data": {
      "image/png": "[encoded data removed]",
      "text/plain": [
       "<Figure size 432x288 with 1 Axes>"
      ]
     },
     "metadata": {
      "needs_background": "light"
     },
     "output_type": "display_data"
    }
   ],
   "source": [
    "dendrogram(wardlink)"
   ]
  },
  {
   "cell_type": "code",
   "execution_count": 128,
   "metadata": {},
   "outputs": [
    {
     "data": {
      "image/png": "[encoded data removed]",
      "text/plain": [
       "<Figure size 432x288 with 1 Axes>"
      ]
     },
     "metadata": {
      "needs_background": "light"
     },
     "output_type": "display_data"
    }
   ],
   "source": [
    "dend = dendrogram(wardlink)"
   ]
  },
  {
   "cell_type": "code",
   "execution_count": 129,
   "metadata": {},
   "outputs": [
    {
     "data": {
      "image/png": "[encoded data removed]",
      "text/plain": [
       "<Figure size 432x288 with 1 Axes>"
      ]
     },
     "metadata": {
      "needs_background": "light"
     },
     "output_type": "display_data"
    }
   ],
   "source": [
    "dend = dendrogram(wardlink, truncate_mode = 'lastp', p =10) "
   ]
  },
  {
   "cell_type": "markdown",
   "metadata": {},
   "source": [
    "**p value shows the last 10 merges. Green cluster has maximum products, the orange cluster has minimum products**"
   ]
  },
  {
   "cell_type": "markdown",
   "metadata": {},
   "source": [
    "**we created the linkage, that is the distances. Now obtaining the clusters and products belong to each cluster for final verification**"
   ]
  },
  {
   "cell_type": "code",
   "execution_count": 132,
   "metadata": {},
   "outputs": [],
   "source": [
    "from scipy.cluster.hierarchy import fcluster"
   ]
  },
  {
   "cell_type": "markdown",
   "metadata": {},
   "source": [
    "we will use these fcluster to form the clusters"
   ]
  },
  {
   "cell_type": "code",
   "execution_count": 135,
   "metadata": {},
   "outputs": [
    {
     "data": {
      "text/plain": [
       "array([1, 3, 1, 2, 1, 2, 2, 3, 1, 2, 1, 3, 2, 1, 3, 2, 3, 2, 2, 2, 2, 2,\n",
       "       1, 2, 3, 3, 3, 2, 2, 2, 3, 2, 2, 3, 2, 2, 2, 2, 2, 1, 1, 3, 1, 1,\n",
       "       2, 2, 3, 1, 1, 1, 2, 1, 1, 1, 1, 1, 2, 2, 2, 1, 3, 2, 2, 3, 3, 1,\n",
       "       1, 3, 1, 2, 3, 2, 1, 1, 2, 1, 3, 2, 1, 3, 3, 3, 3, 1, 2, 3, 3, 3,\n",
       "       1, 2, 2, 1, 3, 2, 2, 1, 1, 1, 2, 1, 2, 1, 3, 1, 3, 1, 1, 2, 2, 1,\n",
       "       3, 3, 1, 2, 2, 1, 3, 2, 2, 1, 3, 2, 2, 2, 3, 3, 1, 2, 3, 3, 2, 3,\n",
       "       2, 1, 2, 1, 1, 2, 1, 3, 3, 3, 2, 2, 3, 2, 1, 2, 3, 2, 3, 2, 3, 3,\n",
       "       3, 3, 2, 2, 3, 1, 1, 2, 1, 1, 1, 2, 3, 3, 3, 3, 3, 2, 3, 1, 1, 1,\n",
       "       3, 3, 3, 2, 3, 3, 3, 3, 3, 1, 3, 3, 3, 2, 3, 3, 2, 1, 3, 1, 1, 2,\n",
       "       1, 2, 3, 3, 3, 2, 1, 3, 1, 3, 3, 3], dtype=int32)"
      ]
     },
     "execution_count": 135,
     "metadata": {},
     "output_type": "execute_result"
    }
   ],
   "source": [
    "clusters = fcluster(wardlink, 23, criterion = 'distance')\n",
    "clusters"
   ]
  },
  {
   "cell_type": "code",
   "execution_count": 136,
   "metadata": {},
   "outputs": [],
   "source": [
    "data_copied['clusters'] = clusters"
   ]
  },
  {
   "cell_type": "code",
   "execution_count": 137,
   "metadata": {},
   "outputs": [
    {
     "data": {
      "text/html": [
       "<div>\n",
       "<style scoped>\n",
       "    .dataframe tbody tr th:only-of-type {\n",
       "        vertical-align: middle;\n",
       "    }\n",
       "\n",
       "    .dataframe tbody tr th {\n",
       "        vertical-align: top;\n",
       "    }\n",
       "\n",
       "    .dataframe thead th {\n",
       "        text-align: right;\n",
       "    }\n",
       "</style>\n",
       "<table border=\"1\" class=\"dataframe\">\n",
       "  <thead>\n",
       "    <tr style=\"text-align: right;\">\n",
       "      <th></th>\n",
       "      <th>spending</th>\n",
       "      <th>advance_payments</th>\n",
       "      <th>probability_of_full_payment</th>\n",
       "      <th>current_balance</th>\n",
       "      <th>credit_limit</th>\n",
       "      <th>min_payment_amt</th>\n",
       "      <th>max_spent_in_single_shopping</th>\n",
       "      <th>spending_MinMaxScale</th>\n",
       "      <th>advance_payments_MinMaxScale</th>\n",
       "      <th>probability_of_full_payment_MinMaxScale</th>\n",
       "      <th>current_balance_MinMaxScale</th>\n",
       "      <th>credit_limit_MinMaxScale</th>\n",
       "      <th>min_payment_amt_MinMaxScale</th>\n",
       "      <th>max_spent_in_single_shopping_MinMaxScale</th>\n",
       "      <th>clusters</th>\n",
       "    </tr>\n",
       "  </thead>\n",
       "  <tbody>\n",
       "    <tr>\n",
       "      <th>0</th>\n",
       "      <td>19.94</td>\n",
       "      <td>16.92</td>\n",
       "      <td>0.8752</td>\n",
       "      <td>6.675</td>\n",
       "      <td>3.763</td>\n",
       "      <td>3.252</td>\n",
       "      <td>6.550</td>\n",
       "      <td>0.882908</td>\n",
       "      <td>0.931818</td>\n",
       "      <td>0.608893</td>\n",
       "      <td>1.000000</td>\n",
       "      <td>0.807555</td>\n",
       "      <td>0.323356</td>\n",
       "      <td>1.000000</td>\n",
       "      <td>1</td>\n",
       "    </tr>\n",
       "    <tr>\n",
       "      <th>1</th>\n",
       "      <td>15.99</td>\n",
       "      <td>14.89</td>\n",
       "      <td>0.9064</td>\n",
       "      <td>5.363</td>\n",
       "      <td>3.582</td>\n",
       "      <td>3.336</td>\n",
       "      <td>5.144</td>\n",
       "      <td>0.509915</td>\n",
       "      <td>0.512397</td>\n",
       "      <td>0.892015</td>\n",
       "      <td>0.261261</td>\n",
       "      <td>0.678546</td>\n",
       "      <td>0.334278</td>\n",
       "      <td>0.307730</td>\n",
       "      <td>3</td>\n",
       "    </tr>\n",
       "    <tr>\n",
       "      <th>2</th>\n",
       "      <td>18.95</td>\n",
       "      <td>16.42</td>\n",
       "      <td>0.8829</td>\n",
       "      <td>6.248</td>\n",
       "      <td>3.755</td>\n",
       "      <td>3.368</td>\n",
       "      <td>6.148</td>\n",
       "      <td>0.789424</td>\n",
       "      <td>0.828512</td>\n",
       "      <td>0.678766</td>\n",
       "      <td>0.759572</td>\n",
       "      <td>0.801853</td>\n",
       "      <td>0.338439</td>\n",
       "      <td>0.802068</td>\n",
       "      <td>1</td>\n",
       "    </tr>\n",
       "    <tr>\n",
       "      <th>3</th>\n",
       "      <td>10.83</td>\n",
       "      <td>12.96</td>\n",
       "      <td>0.8099</td>\n",
       "      <td>5.278</td>\n",
       "      <td>2.641</td>\n",
       "      <td>5.182</td>\n",
       "      <td>5.185</td>\n",
       "      <td>0.022663</td>\n",
       "      <td>0.113636</td>\n",
       "      <td>0.016334</td>\n",
       "      <td>0.213401</td>\n",
       "      <td>0.007840</td>\n",
       "      <td>0.574302</td>\n",
       "      <td>0.327917</td>\n",
       "      <td>2</td>\n",
       "    </tr>\n",
       "    <tr>\n",
       "      <th>4</th>\n",
       "      <td>17.99</td>\n",
       "      <td>15.86</td>\n",
       "      <td>0.8992</td>\n",
       "      <td>5.890</td>\n",
       "      <td>3.694</td>\n",
       "      <td>2.068</td>\n",
       "      <td>5.837</td>\n",
       "      <td>0.698772</td>\n",
       "      <td>0.712810</td>\n",
       "      <td>0.826679</td>\n",
       "      <td>0.557995</td>\n",
       "      <td>0.758375</td>\n",
       "      <td>0.169408</td>\n",
       "      <td>0.648941</td>\n",
       "      <td>1</td>\n",
       "    </tr>\n",
       "  </tbody>\n",
       "</table>\n",
       "</div>"
      ],
      "text/plain": [
       "   spending  advance_payments  probability_of_full_payment  current_balance  \\\n",
       "0     19.94             16.92                       0.8752            6.675   \n",
       "1     15.99             14.89                       0.9064            5.363   \n",
       "2     18.95             16.42                       0.8829            6.248   \n",
       "3     10.83             12.96                       0.8099            5.278   \n",
       "4     17.99             15.86                       0.8992            5.890   \n",
       "\n",
       "   credit_limit  min_payment_amt  max_spent_in_single_shopping  \\\n",
       "0         3.763            3.252                         6.550   \n",
       "1         3.582            3.336                         5.144   \n",
       "2         3.755            3.368                         6.148   \n",
       "3         2.641            5.182                         5.185   \n",
       "4         3.694            2.068                         5.837   \n",
       "\n",
       "   spending_MinMaxScale  advance_payments_MinMaxScale  \\\n",
       "0              0.882908                      0.931818   \n",
       "1              0.509915                      0.512397   \n",
       "2              0.789424                      0.828512   \n",
       "3              0.022663                      0.113636   \n",
       "4              0.698772                      0.712810   \n",
       "\n",
       "   probability_of_full_payment_MinMaxScale  current_balance_MinMaxScale  \\\n",
       "0                                 0.608893                     1.000000   \n",
       "1                                 0.892015                     0.261261   \n",
       "2                                 0.678766                     0.759572   \n",
       "3                                 0.016334                     0.213401   \n",
       "4                                 0.826679                     0.557995   \n",
       "\n",
       "   credit_limit_MinMaxScale  min_payment_amt_MinMaxScale  \\\n",
       "0                  0.807555                     0.323356   \n",
       "1                  0.678546                     0.334278   \n",
       "2                  0.801853                     0.338439   \n",
       "3                  0.007840                     0.574302   \n",
       "4                  0.758375                     0.169408   \n",
       "\n",
       "   max_spent_in_single_shopping_MinMaxScale  clusters  \n",
       "0                                  1.000000         1  \n",
       "1                                  0.307730         3  \n",
       "2                                  0.802068         1  \n",
       "3                                  0.327917         2  \n",
       "4                                  0.648941         1  "
      ]
     },
     "execution_count": 137,
     "metadata": {},
     "output_type": "execute_result"
    }
   ],
   "source": [
    "data_copied.head()"
   ]
  },
  {
   "cell_type": "code",
   "execution_count": 138,
   "metadata": {},
   "outputs": [],
   "source": [
    "data_copied.to_csv('hc.csv')"
   ]
  },
  {
   "cell_type": "markdown",
   "metadata": {},
   "source": [
    "<span style=\"font-family: Arial; font-weight:bold;font-size:1.5em;color:#00b3e5;\">1.4 Apply K-Means clustering on scaled data and determine optimum clusters. Apply elbow curve and silhouette score.\n"
   ]
  },
  {
   "cell_type": "code",
   "execution_count": 141,
   "metadata": {},
   "outputs": [
    {
     "data": {
      "text/html": [
       "<div>\n",
       "<style scoped>\n",
       "    .dataframe tbody tr th:only-of-type {\n",
       "        vertical-align: middle;\n",
       "    }\n",
       "\n",
       "    .dataframe tbody tr th {\n",
       "        vertical-align: top;\n",
       "    }\n",
       "\n",
       "    .dataframe thead th {\n",
       "        text-align: right;\n",
       "    }\n",
       "</style>\n",
       "<table border=\"1\" class=\"dataframe\">\n",
       "  <thead>\n",
       "    <tr style=\"text-align: right;\">\n",
       "      <th></th>\n",
       "      <th>spending</th>\n",
       "      <th>advance_payments</th>\n",
       "      <th>probability_of_full_payment</th>\n",
       "      <th>current_balance</th>\n",
       "      <th>credit_limit</th>\n",
       "      <th>min_payment_amt</th>\n",
       "      <th>max_spent_in_single_shopping</th>\n",
       "    </tr>\n",
       "  </thead>\n",
       "  <tbody>\n",
       "    <tr>\n",
       "      <th>0</th>\n",
       "      <td>19.94</td>\n",
       "      <td>16.92</td>\n",
       "      <td>0.8752</td>\n",
       "      <td>6.675</td>\n",
       "      <td>3.763</td>\n",
       "      <td>3.252</td>\n",
       "      <td>6.550</td>\n",
       "    </tr>\n",
       "    <tr>\n",
       "      <th>1</th>\n",
       "      <td>15.99</td>\n",
       "      <td>14.89</td>\n",
       "      <td>0.9064</td>\n",
       "      <td>5.363</td>\n",
       "      <td>3.582</td>\n",
       "      <td>3.336</td>\n",
       "      <td>5.144</td>\n",
       "    </tr>\n",
       "    <tr>\n",
       "      <th>2</th>\n",
       "      <td>18.95</td>\n",
       "      <td>16.42</td>\n",
       "      <td>0.8829</td>\n",
       "      <td>6.248</td>\n",
       "      <td>3.755</td>\n",
       "      <td>3.368</td>\n",
       "      <td>6.148</td>\n",
       "    </tr>\n",
       "    <tr>\n",
       "      <th>3</th>\n",
       "      <td>10.83</td>\n",
       "      <td>12.96</td>\n",
       "      <td>0.8099</td>\n",
       "      <td>5.278</td>\n",
       "      <td>2.641</td>\n",
       "      <td>5.182</td>\n",
       "      <td>5.185</td>\n",
       "    </tr>\n",
       "    <tr>\n",
       "      <th>4</th>\n",
       "      <td>17.99</td>\n",
       "      <td>15.86</td>\n",
       "      <td>0.8992</td>\n",
       "      <td>5.890</td>\n",
       "      <td>3.694</td>\n",
       "      <td>2.068</td>\n",
       "      <td>5.837</td>\n",
       "    </tr>\n",
       "  </tbody>\n",
       "</table>\n",
       "</div>"
      ],
      "text/plain": [
       "   spending  advance_payments  probability_of_full_payment  current_balance  \\\n",
       "0     19.94             16.92                       0.8752            6.675   \n",
       "1     15.99             14.89                       0.9064            5.363   \n",
       "2     18.95             16.42                       0.8829            6.248   \n",
       "3     10.83             12.96                       0.8099            5.278   \n",
       "4     17.99             15.86                       0.8992            5.890   \n",
       "\n",
       "   credit_limit  min_payment_amt  max_spent_in_single_shopping  \n",
       "0         3.763            3.252                         6.550  \n",
       "1         3.582            3.336                         5.144  \n",
       "2         3.755            3.368                         6.148  \n",
       "3         2.641            5.182                         5.185  \n",
       "4         3.694            2.068                         5.837  "
      ]
     },
     "execution_count": 141,
     "metadata": {},
     "output_type": "execute_result"
    }
   ],
   "source": [
    "data.head()"
   ]
  },
  {
   "cell_type": "code",
   "execution_count": 145,
   "metadata": {},
   "outputs": [
    {
     "data": {
      "text/plain": [
       "(210, 7)"
      ]
     },
     "execution_count": 145,
     "metadata": {},
     "output_type": "execute_result"
    }
   ],
   "source": [
    "data.shape"
   ]
  },
  {
   "cell_type": "markdown",
   "metadata": {},
   "source": [
    "<span style=\"font-family: Arial; font-weight:bold;font-size:1.5em;color:#00b3e5;\">scaling the data"
   ]
  },
  {
   "cell_type": "code",
   "execution_count": 142,
   "metadata": {},
   "outputs": [],
   "source": [
    "from sklearn.preprocessing import StandardScaler"
   ]
  },
  {
   "cell_type": "code",
   "execution_count": 143,
   "metadata": {},
   "outputs": [],
   "source": [
    "X = StandardScaler()"
   ]
  },
  {
   "cell_type": "code",
   "execution_count": 157,
   "metadata": {},
   "outputs": [
    {
     "data": {
      "text/plain": [
       "array([[ 1.75435461,  1.81196782,  0.17822987, ...,  1.33857863,\n",
       "        -0.29880602,  2.3289982 ],\n",
       "       [ 0.39358228,  0.25383997,  1.501773  , ...,  0.85823561,\n",
       "        -0.24280501, -0.53858174],\n",
       "       [ 1.41330028,  1.42819249,  0.50487353, ...,  1.317348  ,\n",
       "        -0.22147129,  1.50910692],\n",
       "       ...,\n",
       "       [-0.2816364 , -0.30647202,  0.36488339, ..., -0.15287318,\n",
       "        -1.3221578 , -0.83023461],\n",
       "       [ 0.43836719,  0.33827054,  1.23027698, ...,  0.60081421,\n",
       "        -0.95348449,  0.07123789],\n",
       "       [ 0.24889256,  0.45340314, -0.77624835, ..., -0.07325831,\n",
       "        -0.70681338,  0.96047321]])"
      ]
     },
     "execution_count": 157,
     "metadata": {},
     "output_type": "execute_result"
    }
   ],
   "source": [
    "scaled_df = X.fit_transform(data)\n",
    "scaled_df"
   ]
  },
  {
   "cell_type": "code",
   "execution_count": 159,
   "metadata": {},
   "outputs": [],
   "source": [
    "# Create K Means cluster and store the result in the object k_means\n",
    "from sklearn.cluster import KMeans\n",
    "k_means = KMeans(n_clusters = 2,random_state=1)"
   ]
  },
  {
   "cell_type": "code",
   "execution_count": 162,
   "metadata": {},
   "outputs": [],
   "source": [
    "# Creating Clusters using KMeans\n",
    "### Forming 2 Clusters with K=2"
   ]
  },
  {
   "cell_type": "code",
   "execution_count": 160,
   "metadata": {},
   "outputs": [
    {
     "data": {
      "text/plain": [
       "KMeans(n_clusters=2, random_state=1)"
      ]
     },
     "execution_count": 160,
     "metadata": {},
     "output_type": "execute_result"
    }
   ],
   "source": [
    "# Fit K means on the scaled_df\n",
    "k_means.fit(scaled_df)"
   ]
  },
  {
   "cell_type": "code",
   "execution_count": 163,
   "metadata": {},
   "outputs": [],
   "source": [
    "### Cluster Output for all the observations"
   ]
  },
  {
   "cell_type": "code",
   "execution_count": 161,
   "metadata": {},
   "outputs": [
    {
     "data": {
      "text/plain": [
       "array([1, 0, 1, 0, 1, 0, 0, 0, 1, 0, 1, 0, 0, 1, 0, 0, 1, 0, 0, 0, 0, 0,\n",
       "       1, 0, 0, 1, 0, 0, 0, 0, 0, 0, 0, 1, 0, 0, 0, 0, 0, 1, 1, 0, 1, 1,\n",
       "       0, 0, 0, 1, 1, 1, 0, 1, 1, 1, 1, 1, 0, 0, 0, 1, 0, 0, 0, 0, 0, 1,\n",
       "       1, 0, 1, 0, 0, 0, 1, 1, 0, 1, 0, 0, 1, 0, 0, 0, 0, 1, 0, 0, 1, 1,\n",
       "       1, 0, 0, 1, 0, 0, 0, 1, 1, 1, 0, 1, 0, 1, 0, 1, 0, 1, 1, 0, 0, 1,\n",
       "       1, 0, 1, 0, 0, 1, 0, 0, 0, 1, 0, 0, 0, 0, 0, 0, 1, 0, 0, 0, 0, 0,\n",
       "       0, 1, 0, 1, 1, 0, 1, 0, 0, 0, 0, 0, 0, 0, 1, 0, 0, 0, 0, 0, 0, 1,\n",
       "       0, 0, 0, 0, 0, 1, 1, 0, 1, 1, 1, 0, 1, 0, 0, 0, 1, 0, 0, 1, 1, 1,\n",
       "       0, 0, 1, 0, 0, 0, 0, 0, 1, 1, 0, 0, 0, 0, 0, 0, 0, 1, 0, 1, 1, 0,\n",
       "       1, 0, 0, 1, 0, 0, 1, 0, 1, 0, 1, 1], dtype=int32)"
      ]
     },
     "execution_count": 161,
     "metadata": {},
     "output_type": "execute_result"
    }
   ],
   "source": [
    "# Get the labels\n",
    "k_means.labels_"
   ]
  },
  {
   "cell_type": "code",
   "execution_count": 164,
   "metadata": {},
   "outputs": [],
   "source": [
    "### Within Cluster Sum of Squares"
   ]
  },
  {
   "cell_type": "code",
   "execution_count": 165,
   "metadata": {},
   "outputs": [
    {
     "data": {
      "text/plain": [
       "659.171754487041"
      ]
     },
     "execution_count": 165,
     "metadata": {},
     "output_type": "execute_result"
    }
   ],
   "source": [
    "k_means.inertia_"
   ]
  },
  {
   "cell_type": "code",
   "execution_count": 166,
   "metadata": {},
   "outputs": [],
   "source": [
    "### Forming clusters with K = 1,3,4,5,6 and comparing the WSS"
   ]
  },
  {
   "cell_type": "code",
   "execution_count": 167,
   "metadata": {},
   "outputs": [
    {
     "data": {
      "text/plain": [
       "1469.9999999999998"
      ]
     },
     "execution_count": 167,
     "metadata": {},
     "output_type": "execute_result"
    }
   ],
   "source": [
    "k_means = KMeans(n_clusters = 1,random_state=1)\n",
    "k_means.fit(scaled_df)\n",
    "k_means.inertia_"
   ]
  },
  {
   "cell_type": "code",
   "execution_count": 168,
   "metadata": {},
   "outputs": [
    {
     "data": {
      "text/plain": [
       "430.6589731513006"
      ]
     },
     "execution_count": 168,
     "metadata": {},
     "output_type": "execute_result"
    }
   ],
   "source": [
    "k_means = KMeans(n_clusters = 3,random_state=1)\n",
    "k_means.fit(scaled_df)\n",
    "k_means.inertia_"
   ]
  },
  {
   "cell_type": "code",
   "execution_count": 169,
   "metadata": {},
   "outputs": [
    {
     "data": {
      "text/plain": [
       "371.38509060801096"
      ]
     },
     "execution_count": 169,
     "metadata": {},
     "output_type": "execute_result"
    }
   ],
   "source": [
    "k_means = KMeans(n_clusters = 4,random_state=1)\n",
    "k_means.fit(scaled_df)\n",
    "k_means.inertia_"
   ]
  },
  {
   "cell_type": "code",
   "execution_count": 170,
   "metadata": {},
   "outputs": [
    {
     "data": {
      "text/plain": [
       "327.21278165661346"
      ]
     },
     "execution_count": 170,
     "metadata": {},
     "output_type": "execute_result"
    }
   ],
   "source": [
    "k_means = KMeans(n_clusters = 5,random_state=1)\n",
    "k_means.fit(scaled_df)\n",
    "k_means.inertia_"
   ]
  },
  {
   "cell_type": "code",
   "execution_count": 171,
   "metadata": {},
   "outputs": [
    {
     "data": {
      "text/plain": [
       "289.31599538959495"
      ]
     },
     "execution_count": 171,
     "metadata": {},
     "output_type": "execute_result"
    }
   ],
   "source": [
    "k_means = KMeans(n_clusters = 6,random_state=1)\n",
    "k_means.fit(scaled_df)\n",
    "k_means.inertia_"
   ]
  },
  {
   "cell_type": "markdown",
   "metadata": {},
   "source": [
    "**WSS reduces as K keeps increasing**"
   ]
  },
  {
   "cell_type": "code",
   "execution_count": 172,
   "metadata": {},
   "outputs": [],
   "source": [
    "### Calculating WSS for other values of K - Elbow Method"
   ]
  },
  {
   "cell_type": "code",
   "execution_count": 173,
   "metadata": {},
   "outputs": [],
   "source": [
    "wss =[] "
   ]
  },
  {
   "cell_type": "code",
   "execution_count": 174,
   "metadata": {},
   "outputs": [],
   "source": [
    "for i in range(1,11):\n",
    "    KM = KMeans(n_clusters=i,random_state=1)\n",
    "    KM.fit(scaled_df)\n",
    "    wss.append(KM.inertia_)"
   ]
  },
  {
   "cell_type": "code",
   "execution_count": 175,
   "metadata": {},
   "outputs": [
    {
     "data": {
      "text/plain": [
       "[1469.9999999999998,\n",
       " 659.171754487041,\n",
       " 430.6589731513006,\n",
       " 371.38509060801096,\n",
       " 327.21278165661346,\n",
       " 289.31599538959495,\n",
       " 262.98186570162267,\n",
       " 241.81894656086033,\n",
       " 223.91254221002725,\n",
       " 206.39612184786694]"
      ]
     },
     "execution_count": 175,
     "metadata": {},
     "output_type": "execute_result"
    }
   ],
   "source": [
    "wss"
   ]
  },
  {
   "cell_type": "code",
   "execution_count": 176,
   "metadata": {},
   "outputs": [],
   "source": [
    "a=[1,2,3,4,5,6,7,8,9,10]"
   ]
  },
  {
   "cell_type": "code",
   "execution_count": 177,
   "metadata": {},
   "outputs": [
    {
     "data": {
      "image/png": "[encoded data removed]",
      "text/plain": [
       "<Figure size 432x288 with 1 Axes>"
      ]
     },
     "metadata": {
      "needs_background": "light"
     },
     "output_type": "display_data"
    }
   ],
   "source": [
    "sns.pointplot(a, wss);"
   ]
  },
  {
   "cell_type": "code",
   "execution_count": 178,
   "metadata": {},
   "outputs": [
    {
     "data": {
      "text/plain": [
       "[<matplotlib.lines.Line2D at 0x7fefccd70a30>]"
      ]
     },
     "execution_count": 178,
     "metadata": {},
     "output_type": "execute_result"
    },
    {
     "data": {
      "image/png": "[encoded data removed]",
      "text/plain": [
       "<Figure size 432x288 with 1 Axes>"
      ]
     },
     "metadata": {
      "needs_background": "light"
     },
     "output_type": "display_data"
    }
   ],
   "source": [
    "plt.plot(range(1,11), wss)"
   ]
  },
  {
   "cell_type": "code",
   "execution_count": 179,
   "metadata": {},
   "outputs": [],
   "source": [
    "# KMeans with K=3"
   ]
  },
  {
   "cell_type": "code",
   "execution_count": 180,
   "metadata": {},
   "outputs": [],
   "source": [
    "k_means = KMeans(n_clusters = 3,random_state=1)\n",
    "k_means.fit(scaled_df)\n",
    "labels = k_means.labels_"
   ]
  },
  {
   "cell_type": "code",
   "execution_count": 181,
   "metadata": {},
   "outputs": [],
   "source": [
    "### Cluster evaluation for 3 clusters: the silhouette score"
   ]
  },
  {
   "cell_type": "code",
   "execution_count": 182,
   "metadata": {},
   "outputs": [],
   "source": [
    "from sklearn.metrics import silhouette_samples, silhouette_score"
   ]
  },
  {
   "cell_type": "code",
   "execution_count": 183,
   "metadata": {},
   "outputs": [
    {
     "data": {
      "text/plain": [
       "0.4007270552751299"
      ]
     },
     "execution_count": 183,
     "metadata": {},
     "output_type": "execute_result"
    }
   ],
   "source": [
    "# Calculating silhouette_score\n",
    "silhouette_score(scaled_df,labels,random_state=1)"
   ]
  },
  {
   "cell_type": "code",
   "execution_count": 184,
   "metadata": {},
   "outputs": [],
   "source": [
    "# KMeans with K=4"
   ]
  },
  {
   "cell_type": "code",
   "execution_count": 185,
   "metadata": {},
   "outputs": [],
   "source": [
    "k_means = KMeans(n_clusters = 4,random_state=1)\n",
    "k_means.fit(scaled_df)\n",
    "labels = k_means.labels_"
   ]
  },
  {
   "cell_type": "code",
   "execution_count": 186,
   "metadata": {},
   "outputs": [],
   "source": [
    "### Cluster evaluation for 4 clusters"
   ]
  },
  {
   "cell_type": "code",
   "execution_count": 187,
   "metadata": {},
   "outputs": [
    {
     "data": {
      "text/plain": [
       "0.3276547677266193"
      ]
     },
     "execution_count": 187,
     "metadata": {},
     "output_type": "execute_result"
    }
   ],
   "source": [
    "silhouette_score(scaled_df,labels,random_state=1)"
   ]
  },
  {
   "cell_type": "markdown",
   "metadata": {},
   "source": [
    "**silhouette score is better for 3 clusters than for 4 clusters. So, final clusters will be 3**"
   ]
  },
  {
   "cell_type": "markdown",
   "metadata": {},
   "source": [
    "Appending Clusters to the original dataset"
   ]
  },
  {
   "cell_type": "code",
   "execution_count": 188,
   "metadata": {},
   "outputs": [
    {
     "data": {
      "text/html": [
       "<div>\n",
       "<style scoped>\n",
       "    .dataframe tbody tr th:only-of-type {\n",
       "        vertical-align: middle;\n",
       "    }\n",
       "\n",
       "    .dataframe tbody tr th {\n",
       "        vertical-align: top;\n",
       "    }\n",
       "\n",
       "    .dataframe thead th {\n",
       "        text-align: right;\n",
       "    }\n",
       "</style>\n",
       "<table border=\"1\" class=\"dataframe\">\n",
       "  <thead>\n",
       "    <tr style=\"text-align: right;\">\n",
       "      <th></th>\n",
       "      <th>spending</th>\n",
       "      <th>advance_payments</th>\n",
       "      <th>probability_of_full_payment</th>\n",
       "      <th>current_balance</th>\n",
       "      <th>credit_limit</th>\n",
       "      <th>min_payment_amt</th>\n",
       "      <th>max_spent_in_single_shopping</th>\n",
       "      <th>Clus_kmeans4</th>\n",
       "    </tr>\n",
       "  </thead>\n",
       "  <tbody>\n",
       "    <tr>\n",
       "      <th>0</th>\n",
       "      <td>19.94</td>\n",
       "      <td>16.92</td>\n",
       "      <td>0.8752</td>\n",
       "      <td>6.675</td>\n",
       "      <td>3.763</td>\n",
       "      <td>3.252</td>\n",
       "      <td>6.550</td>\n",
       "      <td>3</td>\n",
       "    </tr>\n",
       "    <tr>\n",
       "      <th>1</th>\n",
       "      <td>15.99</td>\n",
       "      <td>14.89</td>\n",
       "      <td>0.9064</td>\n",
       "      <td>5.363</td>\n",
       "      <td>3.582</td>\n",
       "      <td>3.336</td>\n",
       "      <td>5.144</td>\n",
       "      <td>1</td>\n",
       "    </tr>\n",
       "    <tr>\n",
       "      <th>2</th>\n",
       "      <td>18.95</td>\n",
       "      <td>16.42</td>\n",
       "      <td>0.8829</td>\n",
       "      <td>6.248</td>\n",
       "      <td>3.755</td>\n",
       "      <td>3.368</td>\n",
       "      <td>6.148</td>\n",
       "      <td>3</td>\n",
       "    </tr>\n",
       "    <tr>\n",
       "      <th>3</th>\n",
       "      <td>10.83</td>\n",
       "      <td>12.96</td>\n",
       "      <td>0.8099</td>\n",
       "      <td>5.278</td>\n",
       "      <td>2.641</td>\n",
       "      <td>5.182</td>\n",
       "      <td>5.185</td>\n",
       "      <td>0</td>\n",
       "    </tr>\n",
       "    <tr>\n",
       "      <th>4</th>\n",
       "      <td>17.99</td>\n",
       "      <td>15.86</td>\n",
       "      <td>0.8992</td>\n",
       "      <td>5.890</td>\n",
       "      <td>3.694</td>\n",
       "      <td>2.068</td>\n",
       "      <td>5.837</td>\n",
       "      <td>3</td>\n",
       "    </tr>\n",
       "  </tbody>\n",
       "</table>\n",
       "</div>"
      ],
      "text/plain": [
       "   spending  advance_payments  probability_of_full_payment  current_balance  \\\n",
       "0     19.94             16.92                       0.8752            6.675   \n",
       "1     15.99             14.89                       0.9064            5.363   \n",
       "2     18.95             16.42                       0.8829            6.248   \n",
       "3     10.83             12.96                       0.8099            5.278   \n",
       "4     17.99             15.86                       0.8992            5.890   \n",
       "\n",
       "   credit_limit  min_payment_amt  max_spent_in_single_shopping  Clus_kmeans4  \n",
       "0         3.763            3.252                         6.550             3  \n",
       "1         3.582            3.336                         5.144             1  \n",
       "2         3.755            3.368                         6.148             3  \n",
       "3         2.641            5.182                         5.185             0  \n",
       "4         3.694            2.068                         5.837             3  "
      ]
     },
     "execution_count": 188,
     "metadata": {},
     "output_type": "execute_result"
    }
   ],
   "source": [
    "data[\"Clus_kmeans4\"] = labels\n",
    "data.head()"
   ]
  },
  {
   "cell_type": "markdown",
   "metadata": {},
   "source": [
    "<span style=\"font-family: Arial; font-weight:bold;font-size:1.5em;color:#00b3e5;\">1.5 Describe cluster profiles for the clusters defined. Recommend different promotional strategies for different clusters.\n"
   ]
  },
  {
   "cell_type": "markdown",
   "metadata": {},
   "source": [
    "**Cluster profiles for Hierarchial Cluster**"
   ]
  },
  {
   "cell_type": "markdown",
   "metadata": {},
   "source": [
    "Cluster Frequency"
   ]
  },
  {
   "cell_type": "code",
   "execution_count": 195,
   "metadata": {},
   "outputs": [
    {
     "data": {
      "text/plain": [
       "1    63\n",
       "2    72\n",
       "3    75\n",
       "Name: clusters, dtype: int64"
      ]
     },
     "execution_count": 195,
     "metadata": {},
     "output_type": "execute_result"
    }
   ],
   "source": [
    "data_copied.clusters.value_counts().sort_index()"
   ]
  },
  {
   "cell_type": "code",
   "execution_count": 196,
   "metadata": {},
   "outputs": [],
   "source": [
    "# Cluster Profiles"
   ]
  },
  {
   "cell_type": "code",
   "execution_count": 199,
   "metadata": {},
   "outputs": [
    {
     "data": {
      "text/html": [
       "<div>\n",
       "<style scoped>\n",
       "    .dataframe tbody tr th:only-of-type {\n",
       "        vertical-align: middle;\n",
       "    }\n",
       "\n",
       "    .dataframe tbody tr th {\n",
       "        vertical-align: top;\n",
       "    }\n",
       "\n",
       "    .dataframe thead th {\n",
       "        text-align: right;\n",
       "    }\n",
       "</style>\n",
       "<table border=\"1\" class=\"dataframe\">\n",
       "  <thead>\n",
       "    <tr style=\"text-align: right;\">\n",
       "      <th></th>\n",
       "      <th>spending</th>\n",
       "      <th>advance_payments</th>\n",
       "      <th>probability_of_full_payment</th>\n",
       "      <th>current_balance</th>\n",
       "      <th>credit_limit</th>\n",
       "      <th>min_payment_amt</th>\n",
       "      <th>max_spent_in_single_shopping</th>\n",
       "      <th>spending_MinMaxScale</th>\n",
       "      <th>advance_payments_MinMaxScale</th>\n",
       "      <th>probability_of_full_payment_MinMaxScale</th>\n",
       "      <th>current_balance_MinMaxScale</th>\n",
       "      <th>credit_limit_MinMaxScale</th>\n",
       "      <th>min_payment_amt_MinMaxScale</th>\n",
       "      <th>max_spent_in_single_shopping_MinMaxScale</th>\n",
       "      <th>Freq</th>\n",
       "    </tr>\n",
       "    <tr>\n",
       "      <th>clusters</th>\n",
       "      <th></th>\n",
       "      <th></th>\n",
       "      <th></th>\n",
       "      <th></th>\n",
       "      <th></th>\n",
       "      <th></th>\n",
       "      <th></th>\n",
       "      <th></th>\n",
       "      <th></th>\n",
       "      <th></th>\n",
       "      <th></th>\n",
       "      <th></th>\n",
       "      <th></th>\n",
       "      <th></th>\n",
       "      <th></th>\n",
       "    </tr>\n",
       "  </thead>\n",
       "  <tbody>\n",
       "    <tr>\n",
       "      <th>1</th>\n",
       "      <td>18.615873</td>\n",
       "      <td>16.259524</td>\n",
       "      <td>0.883937</td>\n",
       "      <td>6.194603</td>\n",
       "      <td>3.708143</td>\n",
       "      <td>3.659413</td>\n",
       "      <td>6.060952</td>\n",
       "      <td>0.757873</td>\n",
       "      <td>0.795356</td>\n",
       "      <td>0.688172</td>\n",
       "      <td>0.729506</td>\n",
       "      <td>0.768455</td>\n",
       "      <td>0.376330</td>\n",
       "      <td>0.759208</td>\n",
       "      <td>63</td>\n",
       "    </tr>\n",
       "    <tr>\n",
       "      <th>2</th>\n",
       "      <td>11.976667</td>\n",
       "      <td>13.291806</td>\n",
       "      <td>0.850804</td>\n",
       "      <td>5.241542</td>\n",
       "      <td>2.870431</td>\n",
       "      <td>4.920569</td>\n",
       "      <td>5.104000</td>\n",
       "      <td>0.130941</td>\n",
       "      <td>0.182191</td>\n",
       "      <td>0.387515</td>\n",
       "      <td>0.192873</td>\n",
       "      <td>0.171369</td>\n",
       "      <td>0.540310</td>\n",
       "      <td>0.288035</td>\n",
       "      <td>72</td>\n",
       "    </tr>\n",
       "    <tr>\n",
       "      <th>3</th>\n",
       "      <td>14.438133</td>\n",
       "      <td>14.347867</td>\n",
       "      <td>0.879517</td>\n",
       "      <td>5.524547</td>\n",
       "      <td>3.253640</td>\n",
       "      <td>2.562909</td>\n",
       "      <td>5.151560</td>\n",
       "      <td>0.363374</td>\n",
       "      <td>0.400386</td>\n",
       "      <td>0.648070</td>\n",
       "      <td>0.352222</td>\n",
       "      <td>0.444505</td>\n",
       "      <td>0.233758</td>\n",
       "      <td>0.311452</td>\n",
       "      <td>75</td>\n",
       "    </tr>\n",
       "  </tbody>\n",
       "</table>\n",
       "</div>"
      ],
      "text/plain": [
       "           spending  advance_payments  probability_of_full_payment  \\\n",
       "clusters                                                             \n",
       "1         18.615873         16.259524                     0.883937   \n",
       "2         11.976667         13.291806                     0.850804   \n",
       "3         14.438133         14.347867                     0.879517   \n",
       "\n",
       "          current_balance  credit_limit  min_payment_amt  \\\n",
       "clusters                                                   \n",
       "1                6.194603      3.708143         3.659413   \n",
       "2                5.241542      2.870431         4.920569   \n",
       "3                5.524547      3.253640         2.562909   \n",
       "\n",
       "          max_spent_in_single_shopping  spending_MinMaxScale  \\\n",
       "clusters                                                       \n",
       "1                             6.060952              0.757873   \n",
       "2                             5.104000              0.130941   \n",
       "3                             5.151560              0.363374   \n",
       "\n",
       "          advance_payments_MinMaxScale  \\\n",
       "clusters                                 \n",
       "1                             0.795356   \n",
       "2                             0.182191   \n",
       "3                             0.400386   \n",
       "\n",
       "          probability_of_full_payment_MinMaxScale  \\\n",
       "clusters                                            \n",
       "1                                        0.688172   \n",
       "2                                        0.387515   \n",
       "3                                        0.648070   \n",
       "\n",
       "          current_balance_MinMaxScale  credit_limit_MinMaxScale  \\\n",
       "clusters                                                          \n",
       "1                            0.729506                  0.768455   \n",
       "2                            0.192873                  0.171369   \n",
       "3                            0.352222                  0.444505   \n",
       "\n",
       "          min_payment_amt_MinMaxScale  \\\n",
       "clusters                                \n",
       "1                            0.376330   \n",
       "2                            0.540310   \n",
       "3                            0.233758   \n",
       "\n",
       "          max_spent_in_single_shopping_MinMaxScale  Freq  \n",
       "clusters                                                  \n",
       "1                                         0.759208    63  \n",
       "2                                         0.288035    72  \n",
       "3                                         0.311452    75  "
      ]
     },
     "execution_count": 199,
     "metadata": {},
     "output_type": "execute_result"
    }
   ],
   "source": [
    "aggdata=data_copied.groupby('clusters').mean()\n",
    "aggdata['Freq']=data_copied.clusters.value_counts().sort_index()\n",
    "aggdata"
   ]
  },
  {
   "cell_type": "markdown",
   "metadata": {},
   "source": [
    "**Cluster profiles for kmeans Cluster**"
   ]
  },
  {
   "cell_type": "code",
   "execution_count": 189,
   "metadata": {},
   "outputs": [
    {
     "data": {
      "text/plain": [
       "0    65\n",
       "1    66\n",
       "2    30\n",
       "3    49\n",
       "Name: Clus_kmeans4, dtype: int64"
      ]
     },
     "execution_count": 189,
     "metadata": {},
     "output_type": "execute_result"
    }
   ],
   "source": [
    "data.Clus_kmeans4.value_counts().sort_index()"
   ]
  },
  {
   "cell_type": "code",
   "execution_count": 193,
   "metadata": {},
   "outputs": [
    {
     "data": {
      "text/html": [
       "<div>\n",
       "<style scoped>\n",
       "    .dataframe tbody tr th:only-of-type {\n",
       "        vertical-align: middle;\n",
       "    }\n",
       "\n",
       "    .dataframe tbody tr th {\n",
       "        vertical-align: top;\n",
       "    }\n",
       "\n",
       "    .dataframe thead th {\n",
       "        text-align: right;\n",
       "    }\n",
       "</style>\n",
       "<table border=\"1\" class=\"dataframe\">\n",
       "  <thead>\n",
       "    <tr style=\"text-align: right;\">\n",
       "      <th></th>\n",
       "      <th>spending</th>\n",
       "      <th>advance_payments</th>\n",
       "      <th>probability_of_full_payment</th>\n",
       "      <th>current_balance</th>\n",
       "      <th>credit_limit</th>\n",
       "      <th>min_payment_amt</th>\n",
       "      <th>max_spent_in_single_shopping</th>\n",
       "      <th>freq</th>\n",
       "    </tr>\n",
       "    <tr>\n",
       "      <th>Clus_kmeans4</th>\n",
       "      <th></th>\n",
       "      <th></th>\n",
       "      <th></th>\n",
       "      <th></th>\n",
       "      <th></th>\n",
       "      <th></th>\n",
       "      <th></th>\n",
       "      <th></th>\n",
       "    </tr>\n",
       "  </thead>\n",
       "  <tbody>\n",
       "    <tr>\n",
       "      <th>0</th>\n",
       "      <td>11.816462</td>\n",
       "      <td>13.242154</td>\n",
       "      <td>0.846060</td>\n",
       "      <td>5.237600</td>\n",
       "      <td>2.834354</td>\n",
       "      <td>4.919415</td>\n",
       "      <td>5.121846</td>\n",
       "      <td>65</td>\n",
       "    </tr>\n",
       "    <tr>\n",
       "      <th>1</th>\n",
       "      <td>13.992576</td>\n",
       "      <td>14.114697</td>\n",
       "      <td>0.881241</td>\n",
       "      <td>5.431939</td>\n",
       "      <td>3.213318</td>\n",
       "      <td>2.591624</td>\n",
       "      <td>5.030470</td>\n",
       "      <td>66</td>\n",
       "    </tr>\n",
       "    <tr>\n",
       "      <th>2</th>\n",
       "      <td>16.317333</td>\n",
       "      <td>15.288000</td>\n",
       "      <td>0.876877</td>\n",
       "      <td>5.864800</td>\n",
       "      <td>3.444433</td>\n",
       "      <td>3.868567</td>\n",
       "      <td>5.686533</td>\n",
       "      <td>30</td>\n",
       "    </tr>\n",
       "    <tr>\n",
       "      <th>3</th>\n",
       "      <td>19.120000</td>\n",
       "      <td>16.459184</td>\n",
       "      <td>0.886686</td>\n",
       "      <td>6.267265</td>\n",
       "      <td>3.768612</td>\n",
       "      <td>3.472980</td>\n",
       "      <td>6.125878</td>\n",
       "      <td>49</td>\n",
       "    </tr>\n",
       "  </tbody>\n",
       "</table>\n",
       "</div>"
      ],
      "text/plain": [
       "               spending  advance_payments  probability_of_full_payment  \\\n",
       "Clus_kmeans4                                                             \n",
       "0             11.816462         13.242154                     0.846060   \n",
       "1             13.992576         14.114697                     0.881241   \n",
       "2             16.317333         15.288000                     0.876877   \n",
       "3             19.120000         16.459184                     0.886686   \n",
       "\n",
       "              current_balance  credit_limit  min_payment_amt  \\\n",
       "Clus_kmeans4                                                   \n",
       "0                    5.237600      2.834354         4.919415   \n",
       "1                    5.431939      3.213318         2.591624   \n",
       "2                    5.864800      3.444433         3.868567   \n",
       "3                    6.267265      3.768612         3.472980   \n",
       "\n",
       "              max_spent_in_single_shopping  freq  \n",
       "Clus_kmeans4                                      \n",
       "0                                 5.121846    65  \n",
       "1                                 5.030470    66  \n",
       "2                                 5.686533    30  \n",
       "3                                 6.125878    49  "
      ]
     },
     "execution_count": 193,
     "metadata": {},
     "output_type": "execute_result"
    }
   ],
   "source": [
    "clust_profile=data\n",
    "clust_profile=clust_profile.groupby('Clus_kmeans4').mean()\n",
    "clust_profile['freq']=data.Clus_kmeans4.value_counts().sort_index()\n",
    "clust_profile"
   ]
  },
  {
   "cell_type": "code",
   "execution_count": 194,
   "metadata": {},
   "outputs": [],
   "source": [
    "data.to_csv('km.csv')"
   ]
  },
  {
   "cell_type": "code",
   "execution_count": null,
   "metadata": {},
   "outputs": [],
   "source": []
  }
 ],
 "metadata": {
  "kernelspec": {
   "display_name": "Python 3",
   "language": "python",
   "name": "python3"
  },
  "language_info": {
   "codemirror_mode": {
    "name": "ipython",
    "version": 3
   },
   "file_extension": ".py",
   "mimetype": "text/x-python",
   "name": "python",
   "nbconvert_exporter": "python",
   "pygments_lexer": "ipython3",
   "version": "3.8.3"
  }
 },
 "nbformat": 4,
 "nbformat_minor": 4
}
